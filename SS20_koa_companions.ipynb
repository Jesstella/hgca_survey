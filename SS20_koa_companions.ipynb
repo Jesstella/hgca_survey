{
 "cells": [
  {
   "cell_type": "markdown",
   "metadata": {},
   "source": [
    "# Determining which KOA Observations Contain Companions"
   ]
  },
  {
   "cell_type": "markdown",
   "metadata": {},
   "source": [
    "This code compares the KOA file with the companions in KOA file to determine which stars were found to have companions. This is then cross-matched with the HGCA file to create a column for the spreadsheet. "
   ]
  },
  {
   "cell_type": "code",
   "execution_count": 5,
   "metadata": {},
   "outputs": [],
   "source": [
    "import pandas as pd \n",
    "import numpy as np"
   ]
  },
  {
   "cell_type": "code",
   "execution_count": 6,
   "metadata": {},
   "outputs": [
    {
     "name": "stdout",
     "output_type": "stream",
     "text": [
      "There are 335428 observations in KOA.\n",
      "603 of these have companions.\n"
     ]
    }
   ],
   "source": [
    "# Needs to check stars in this file against the stars in the companion koa file to see how many matches there are.\n",
    "# NB: They will not all match as there may be multiple companions to a star.\n",
    "our_stars = pd.read_csv('/Users/Jess/HGCA_survey_paper/new_keck_stars_edited.csv')\n",
    "print('There are ' + str(len(our_stars)) + ' observations in KOA.')\n",
    "\n",
    "stars_with_comps = pd.read_csv('/Users/Jess/Downloads/new_new_adam.csv') \n",
    "print(str(len(stars_with_comps)) + ' of these have companions.')"
   ]
  },
  {
   "cell_type": "code",
   "execution_count": 7,
   "metadata": {},
   "outputs": [
    {
     "name": "stdout",
     "output_type": "stream",
     "text": [
      "There are 335428 entries in the whole KOA observations file.\n",
      "['20010730.48358', '20010730.48642', '20010730.50841', '20010730.51013', '20010730.51935']\n"
     ]
    }
   ],
   "source": [
    "# Determine the unique file ID for each of the KOA stars. \n",
    "file_names = our_stars['File']\n",
    "file_id = []\n",
    "\n",
    "# Cycle through each file and cut down the string to create the list of unique file identifiers\n",
    "for i in file_names:\n",
    "    new_file_id = i[51:-10]\n",
    "    file_id.append(new_file_id)\n",
    "    \n",
    "print('There are ' + str(len(file_id)) + ' entries in the whole KOA observations file.')\n",
    "print(file_id[0:5])"
   ]
  },
  {
   "cell_type": "code",
   "execution_count": 8,
   "metadata": {},
   "outputs": [
    {
     "name": "stdout",
     "output_type": "stream",
     "text": [
      "There are 603 entries in the companion file.\n",
      "['20011129.37179', '20011201.45110', '20011201.46091', '20020304.18522', '20020304.19541']\n"
     ]
    }
   ],
   "source": [
    "# Now do the same for the stars with companions.\n",
    "comp_stars = stars_with_comps['file']\n",
    "file_id_comps = []\n",
    "\n",
    "for i in comp_stars:\n",
    "    new_file_id = i[3:]\n",
    "    file_id_comps.append(new_file_id)\n",
    "    \n",
    "print('There are ' + str(len(file_id_comps)) + ' entries in the companion file.')\n",
    "print(file_id_comps[0:5])\n",
    "\n",
    "# Creat a set to remove doubles, where there are multiple stars.\n",
    "file_id_comps_set = set(file_id_comps)"
   ]
  },
  {
   "cell_type": "code",
   "execution_count": 9,
   "metadata": {},
   "outputs": [
    {
     "name": "stdout",
     "output_type": "stream",
     "text": [
      "There are 516 entries in the new file. This should be the same as 516.\n"
     ]
    }
   ],
   "source": [
    "# Determine which of these file names overlap by comparing the lists of unique file names.\n",
    "# If the file name appears in both lists, then it has a companion identified in KOA. \n",
    "list_1 = file_id \n",
    "list_2 = file_id_comps\n",
    "\n",
    "# Create list for file IDs and for indexes of these stars \n",
    "new_list = []\n",
    "index_list = []\n",
    "\n",
    "# Cycle through each of the stars in KOA\n",
    "for i in range(len(list_1)):\n",
    "    \n",
    "    # If the star in KOA is also in te comps file\n",
    "    if list_1[i] in list_2:\n",
    "\n",
    "        # Then add the file name to the new list and add the index of the filename to a new list. \n",
    "        new_list.append(list_1[i])\n",
    "        index_list.append(int(i))\n",
    "    else: \n",
    "        continue\n",
    "\n",
    "print('There are ' + str(len(new_list)) + ' entries in the new file. This should be the same as ' + str(len(file_id_comps_set)) + '.')"
   ]
  },
  {
   "cell_type": "code",
   "execution_count": 10,
   "metadata": {},
   "outputs": [],
   "source": [
    "# Create lists of RA and Dec \n",
    "ra_list = []\n",
    "dec_list = []\n",
    "\n",
    "for i in index_list:\n",
    "    ra = our_stars['ra'][i]\n",
    "    ra_list.append(ra)\n",
    "    dec = our_stars['dec'][i]\n",
    "    dec_list.append(dec)"
   ]
  },
  {
   "cell_type": "code",
   "execution_count": 11,
   "metadata": {},
   "outputs": [
    {
     "name": "stdout",
     "output_type": "stream",
     "text": [
      "There are 2453 entries in the cross match.\n"
     ]
    }
   ],
   "source": [
    "# Now need to compare the RA and Dec in our sample with the ra and dec of the COMPANION stars in the KOA sample.\n",
    "# The initial cross-match is necessary because the RA and Dec do not appear in the companion file\n",
    "cross_match_file = pd.read_csv('/Users/Jess/HGCA_survey_paper/completed_cross_match.csv')\n",
    "print('There are ' + str(len(cross_match_file)) + ' entries in the cross match.')"
   ]
  },
  {
   "cell_type": "code",
   "execution_count": null,
   "metadata": {},
   "outputs": [],
   "source": [
    "check_list = []\n",
    "\n",
    "for (i, j) in zip(ra_list, dec_list):\n",
    "    cut_cross_match = cross_match_file[((cross_match_file['ra'] >= i - 0.001) & (cross_match_file['dec'] >= j - 0.001) & (cross_match_file['ra'] <= i + 0.001) & (cross_match_file['dec'] <= j + 0.001))]\n",
    "    check_list.append(cut_cross_match['hip_id'])\n",
    "\n",
    "cut_cross_match = pd.concat(check_list)    "
   ]
  },
  {
   "cell_type": "code",
   "execution_count": 33,
   "metadata": {},
   "outputs": [],
   "source": [
    "# Save new dataframe of stars which have companions in KOA\n",
    "cut_cross_match.to_csv('/Users/Jess/HGCA_survey_paper/koa_hip_with_comps.csv')"
   ]
  },
  {
   "cell_type": "code",
   "execution_count": 39,
   "metadata": {},
   "outputs": [],
   "source": [
    "# Need to make a column of stars with companions in KOA, so open new file and pull HIP IDs.\n",
    "koa_comps = list(pd.read_csv('/Users/Jess/HGCA_survey_paper/koa_hip_with_comps.csv')['hip_id'])\n",
    "our_names = list(cross_match_file['hip_id'])"
   ]
  },
  {
   "cell_type": "code",
   "execution_count": 44,
   "metadata": {},
   "outputs": [],
   "source": [
    "list_1 = our_names\n",
    "list_2 = koa_comps\n",
    "\n",
    "new_column = []\n",
    "\n",
    "# Cycle through each of the stars in KOA\n",
    "for i in range(len(list_1)):\n",
    "    \n",
    "    # If the star in KOA is also in te comps file\n",
    "    if list_1[i] in list_2:\n",
    "        new_column.append(1)\n",
    "    else: \n",
    "        new_column.append(0)"
   ]
  },
  {
   "cell_type": "code",
   "execution_count": 42,
   "metadata": {},
   "outputs": [],
   "source": [
    "koas = pd.DataFrame(new_column, columns=['koa_comps'])\n",
    "koas.to_csv('/Users/Jess/HGCA_survey_paper/koas.csv', index=False)"
   ]
  }
 ],
 "metadata": {
  "kernelspec": {
   "display_name": "Python 3",
   "language": "python",
   "name": "python3"
  },
  "language_info": {
   "codemirror_mode": {
    "name": "ipython",
    "version": 3
   },
   "file_extension": ".py",
   "mimetype": "text/x-python",
   "name": "python",
   "nbconvert_exporter": "python",
   "pygments_lexer": "ipython3",
   "version": "3.7.4"
  }
 },
 "nbformat": 4,
 "nbformat_minor": 4
}
