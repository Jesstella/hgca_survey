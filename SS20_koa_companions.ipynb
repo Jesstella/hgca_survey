{
 "cells": [
  {
   "cell_type": "markdown",
   "metadata": {},
   "source": [
    "# Determining which KOA Observations Contain Companions"
   ]
  },
  {
   "cell_type": "markdown",
   "metadata": {},
   "source": [
    "This code compares the KOA file with the companions in KOA file to determine which stars were found to have companions. This is then cross-matched with the HGCA file to create a column for the spreadsheet. "
   ]
  },
  {
   "cell_type": "code",
   "execution_count": 1,
   "metadata": {},
   "outputs": [],
   "source": [
    "import pandas as pd \n",
    "import numpy as np"
   ]
  },
  {
   "cell_type": "code",
   "execution_count": 89,
   "metadata": {},
   "outputs": [
    {
     "name": "stdout",
     "output_type": "stream",
     "text": [
      "There are 114233 KOA observations that contain a HGCA star.\n",
      "There are 2453 unique stars in our sample.\n",
      "There are 2443 KOA observations containing multiple HGCA stars.\n",
      "There are 603 observations of companions, over 275 systems.\n",
      "This means that 328 stars have multiple companions.\n"
     ]
    }
   ],
   "source": [
    "# Needs to check stars in this file against the stars in the companion koa file to see how many matches there are.\n",
    "# NB: They will not all match as there may be multiple companions to a star.\n",
    "our_stars = pd.read_csv('/Users/Jess/HGCA_survey_paper/koa_file_crossmatch.csv')\n",
    "print('There are ' + str(len(our_stars)) + ' KOA observations that contain a HGCA star.')\n",
    "print('There are ' + str(len(set(our_stars['hip_id']))) + ' unique stars in our sample.')\n",
    "print('There are ' + str(len(our_stars['koa_file']) - len(set(our_stars['koa_file']))) + ' KOA observations containing multiple HGCA stars.')\n",
    "\n",
    "stars_with_comps = pd.read_csv('/Users/Jess/HGCA_survey_paper/new_tables/multitable_hgca_edited.csv', delimiter='&') \n",
    "print('There are ' + str(len(stars_with_comps)) + ' observations of companions, over ' + str(len(set(stars_with_comps['Name']))) + ' systems.')\n",
    "print('This means that ' + str(len(stars_with_comps) - len(set(stars_with_comps['Name']))) + ' stars have multiple companions.')"
   ]
  },
  {
   "cell_type": "code",
   "execution_count": 91,
   "metadata": {},
   "outputs": [],
   "source": [
    "# Pulling the file names for the stars in our sample and formatting them.\n",
    "file_id = list(set(our_stars['koa_file']))"
   ]
  },
  {
   "cell_type": "code",
   "execution_count": 95,
   "metadata": {},
   "outputs": [],
   "source": [
    "# Pulling the file names for the stars in Adam's sample.\n",
    "comp_stars = list(stars_with_comps['file'])"
   ]
  },
  {
   "cell_type": "code",
   "execution_count": 101,
   "metadata": {},
   "outputs": [
    {
     "name": "stdout",
     "output_type": "stream",
     "text": [
      "There are 455 stars in our sample with companions.\n"
     ]
    }
   ],
   "source": [
    "# Determine which of these file names overlap by comparing the lists of unique file names.\n",
    "# If the file name appears in both lists, then it has a companion identified in KOA. \n",
    "list_1 = file_id\n",
    "list_2 = comp_stars\n",
    "\n",
    "# Create list for file IDs and for indexes of these stars \n",
    "new_list = []\n",
    "index_list = []\n",
    "\n",
    "# Cycle through each of the stars in KOA\n",
    "for i in range(len(list_1)):\n",
    "    \n",
    "    # If the star in KOA is also in te comps file\n",
    "    if list_1[i] in list_2:\n",
    "        \n",
    "        # Then add the file name to the new list and add the index of the filename to a new list. \n",
    "        new_list.append(list_1[i])\n",
    "        index_list.append(int(i))\n",
    "        \n",
    "    else: \n",
    "        continue\n",
    "\n",
    "print('There are ' + str(len(new_list)) + ' stars in our sample with companions.')"
   ]
  },
  {
   "cell_type": "code",
   "execution_count": 104,
   "metadata": {},
   "outputs": [
    {
     "name": "stdout",
     "output_type": "stream",
     "text": [
      "There are 333 unique stars that have companions.\n"
     ]
    }
   ],
   "source": [
    "# Using the index of the file names to determine the corresponding HIP ID. \n",
    "hip_with_koa_comp = []\n",
    "\n",
    "for i in index_list:\n",
    "    hip_with_koa_comp.append(our_stars['hip_id'][i])\n",
    "\n",
    "print('There are ' + str(len(set(hip_with_koa_comp))) + ' unique stars that have companions.')"
   ]
  },
  {
   "cell_type": "code",
   "execution_count": 133,
   "metadata": {},
   "outputs": [],
   "source": [
    "companion_file_index = []\n",
    "\n",
    "for i in new_list:\n",
    "    ind = comp_stars.index(i)\n",
    "    companion_file_index.append(ind)\n",
    "\n",
    "file_name = []\n",
    "sep = []\n",
    "sep_err = []\n",
    "pa = []\n",
    "pa_err = []\n",
    "del_mag = []\n",
    "del_mag_err = []\n",
    "\n",
    "for i in companion_file_index: \n",
    "    file_name.append(stars_with_comps['file'][i])\n",
    "    sep.append(stars_with_comps['sep'][i])\n",
    "    sep_err.append(stars_with_comps['sep_err'][i])\n",
    "    pa.append(stars_with_comps['pa'][i])\n",
    "    pa_err.append(stars_with_comps['pa_err'][i])\n",
    "    del_mag.append(stars_with_comps['del_mag'][i])\n",
    "    del_mag_err.append(stars_with_comps['del_mag_err'][i])"
   ]
  },
  {
   "cell_type": "code",
   "execution_count": 125,
   "metadata": {},
   "outputs": [],
   "source": [
    "# Create a file with the companion data \n",
    "rows = zip(hip_with_koa_comp, file_name, sep, sep_err, pa, pa_err, del_mag, del_mag_err)\n",
    "header = ['hip_id', 'file', 'sep', 'sep_err', 'pa', 'pa_err', 'del_mag', 'del_mag_err']\n",
    "koa_comps_file = pd.DataFrame(rows, columns=header)\n",
    "koa_comps_file.to_csv('/Users/Jess/HGCA_survey_paper/koa_companions_with_values.csv', index=False)"
   ]
  },
  {
   "cell_type": "code",
   "execution_count": 127,
   "metadata": {},
   "outputs": [
    {
     "name": "stdout",
     "output_type": "stream",
     "text": [
      "There are 2453 entries in the cross match.\n"
     ]
    }
   ],
   "source": [
    "# Create a column for the compiled file, showing which stars have companions. \n",
    "cross_match_file = pd.read_csv('/Users/Jess/HGCA_survey_paper/completed_cross_match.csv')\n",
    "print('There are ' + str(len(cross_match_file)) + ' entries in the cross match.')"
   ]
  },
  {
   "cell_type": "code",
   "execution_count": 130,
   "metadata": {},
   "outputs": [
    {
     "name": "stdout",
     "output_type": "stream",
     "text": [
      "333\n"
     ]
    }
   ],
   "source": [
    "list_1 = cross_match_file['hip_id']\n",
    "list_2 = set(hip_with_koa_comp)\n",
    "\n",
    "new_column = []\n",
    "\n",
    "# Cycle through each of the stars in KOA\n",
    "for i in range(len(list_1)):\n",
    "    \n",
    "    # If the star in KOA is also in te comps file\n",
    "    if list_1[i] in list_2:\n",
    "        new_column.append(1)\n",
    "    else: \n",
    "        new_column.append(0)"
   ]
  },
  {
   "cell_type": "code",
   "execution_count": 132,
   "metadata": {},
   "outputs": [],
   "source": [
    "koas = pd.DataFrame(new_column, columns=['koa_comps'])\n",
    "koas.to_csv('/Users/Jess/HGCA_survey_paper/koas.csv', index=False)"
   ]
  }
 ],
 "metadata": {
  "kernelspec": {
   "display_name": "Python 3",
   "language": "python",
   "name": "python3"
  },
  "language_info": {
   "codemirror_mode": {
    "name": "ipython",
    "version": 3
   },
   "file_extension": ".py",
   "mimetype": "text/x-python",
   "name": "python",
   "nbconvert_exporter": "python",
   "pygments_lexer": "ipython3",
   "version": "3.7.4"
  }
 },
 "nbformat": 4,
 "nbformat_minor": 4
}
