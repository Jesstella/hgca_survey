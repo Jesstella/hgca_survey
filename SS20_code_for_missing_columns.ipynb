{
 "cells": [
  {
   "cell_type": "markdown",
   "metadata": {},
   "source": [
    "# Code to Pull Data for Extra Columns"
   ]
  },
  {
   "cell_type": "markdown",
   "metadata": {},
   "source": [
    "This code allows the user to pull data from the original file, that was left out of the megafile, but may be needed at a later stage after the cross-match is complete. Example is for pmdec_hip."
   ]
  },
  {
   "cell_type": "code",
   "execution_count": 1,
   "metadata": {},
   "outputs": [],
   "source": [
    "# Necessary Modules\n",
    "import pandas as pd\n",
    "from astropy.io import fits\n",
    "import csv"
   ]
  },
  {
   "cell_type": "code",
   "execution_count": 2,
   "metadata": {},
   "outputs": [],
   "source": [
    "# Pulling pmdec_hip\n",
    "# Getting list of hip_id and opening the DR2 file to retrieve list of pmdec_hip values and long list of HIP IDs.\n",
    "new_hip_list = pd.read_csv('/Users/Jess/HGCA_survey_paper/completed_cross_match.csv')['hip_id']\n",
    "\n",
    "fits_table_filename = '/Users/Jess/HGCA_survey_paper/HGCA_vDR2.fits'\n",
    "hdul = fits.open(fits_table_filename)\n",
    "data = hdul[1].data\n",
    "\n",
    "pmdec_hip = data['pmdec_hip']\n",
    "old_hip_list = list(data['hip_id'])"
   ]
  },
  {
   "cell_type": "code",
   "execution_count": 3,
   "metadata": {},
   "outputs": [],
   "source": [
    "# Creating a list to keep the indices in\n",
    "index_list = []\n",
    "\n",
    "# Cycle round the list of new HIP IDs and determine the index they fall at in the long list\n",
    "for i in new_hip_list:\n",
    "    idx = old_hip_list.index(i)\n",
    "    index_list.append(idx)\n",
    "    \n",
    "# Choose just these values of pmdec_hip\n",
    "pmdec_hip = (pmdec_hip[index_list])"
   ]
  },
  {
   "cell_type": "code",
   "execution_count": 4,
   "metadata": {},
   "outputs": [],
   "source": [
    "row = zip(pmdec_hip)\n",
    "header = ['pmdec_hip']\n",
    "pmdec_hip_file = pd.DataFrame(row, columns=header)\n",
    "pmdec_hip_file.to_csv('/Users/Jess/HGCA_survey_paper/pmdec_hip.csv', index=False)"
   ]
  },
  {
   "cell_type": "code",
   "execution_count": null,
   "metadata": {},
   "outputs": [],
   "source": []
  }
 ],
 "metadata": {
  "kernelspec": {
   "display_name": "Python 3",
   "language": "python",
   "name": "python3"
  },
  "language_info": {
   "codemirror_mode": {
    "name": "ipython",
    "version": 3
   },
   "file_extension": ".py",
   "mimetype": "text/x-python",
   "name": "python",
   "nbconvert_exporter": "python",
   "pygments_lexer": "ipython3",
   "version": "3.7.4"
  }
 },
 "nbformat": 4,
 "nbformat_minor": 4
}
