{
 "cells": [
  {
   "cell_type": "markdown",
   "metadata": {},
   "source": [
    "## Querying SIMBAD Database for a List of Stars and Using Their Object Types to Determine Binarity. "
   ]
  },
  {
   "cell_type": "markdown",
   "metadata": {},
   "source": [
    "This code uses astroquery to search SIMBAD for a given list of HIP ID's (read in as a list of numbers). \n",
    "\n",
    "This query will read out all of the object types allocated to each object. \n",
    "\n",
    "The script then searches each row for a selection of strings to suggest binarity. It will use the presence of these strings to mark the star as either a binary or a single star. "
   ]
  },
  {
   "cell_type": "code",
   "execution_count": 13,
   "metadata": {},
   "outputs": [],
   "source": [
    "# Necessary modules\n",
    "from astroquery.simbad import Simbad\n",
    "import pandas as pd\n",
    "import numpy as np"
   ]
  },
  {
   "cell_type": "code",
   "execution_count": 3,
   "metadata": {},
   "outputs": [
    {
     "name": "stdout",
     "output_type": "stream",
     "text": [
      "2431\n"
     ]
    }
   ],
   "source": [
    "# Read in the list of HIP IDs\n",
    "hip_id = pd.read_csv('/Users/Jess/HGCA_survey_paper/completed_cross_match.csv')['hip_id']\n",
    "print('There are ' + str(len(hip_id)) + ' stars in this list.')"
   ]
  },
  {
   "cell_type": "code",
   "execution_count": 17,
   "metadata": {},
   "outputs": [],
   "source": [
    "# Modifying HIP ID numbers to a format suitable for SIMBAD\n",
    "full_hip_name = []\n",
    "for i in range(len(hip_id)):\n",
    "    new_name = 'HIP ' + str(hip_id[i])\n",
    "    full_hip_name.append(new_name)"
   ]
  },
  {
   "cell_type": "code",
   "execution_count": 18,
   "metadata": {},
   "outputs": [
    {
     "data": {
      "text/plain": [
       "['main_id', 'coordinates', 'otypes']"
      ]
     },
     "execution_count": 18,
     "metadata": {},
     "output_type": "execute_result"
    }
   ],
   "source": [
    "# Setting up a custom SIMBAD search\n",
    "customSimbad = Simbad()\n",
    "customSimbad.add_votable_fields('otypes')\n",
    "customSimbad.get_votable_fields()"
   ]
  },
  {
   "cell_type": "code",
   "execution_count": 19,
   "metadata": {},
   "outputs": [],
   "source": [
    "# Querying the star list and creating a results table\n",
    "result_table = customSimbad.query_objects(full_hip_name)\n",
    "object_types = np.array(list(result_table['OTYPES']))"
   ]
  },
  {
   "cell_type": "code",
   "execution_count": 21,
   "metadata": {},
   "outputs": [],
   "source": [
    "# Qualifying whether each star is a binary by searching object types. \n",
    "simbad_companions = []\n",
    "\n",
    "# These object types are considerd binaries.\n",
    "substring_1 = '**'\n",
    "substring_2 = 'SB*'\n",
    "substring_3 = 'bL*'\n",
    "substring_4 = 'LXB'\n",
    "substring_5 = 'Al*'\n",
    "substring_6 = 'EB*'\n",
    "substring_7 = '*i*'\n",
    "substring_8 = 'WU*'\n",
    "\n",
    "for i in range(len(object_types)):\n",
    "    \n",
    "    a = str(object_types[i]).find(substring_1)\n",
    "    b = str(object_types[i]).find(substring_2)\n",
    "    c = str(object_types[i]).find(substring_3)\n",
    "    d = str(object_types[i]).find(substring_4)\n",
    "    e = str(object_types[i]).find(substring_5)\n",
    "    f = str(object_types[i]).find(substring_6)\n",
    "    g = str(object_types[i]).find(substring_7)\n",
    "    h = str(object_types[i]).find(substring_8)\n",
    "\n",
    "    # If none of the substrings match in the object row, then the sum will be -8.\n",
    "    sum_letters = a + b + c + d + e + f + g + h\n",
    "    if sum_letters > -8:\n",
    "        simbad_companions.append(1)\n",
    "    else:\n",
    "        simbad_companions.append(0)\n",
    "        \n",
    "# Saving this list to a csv file.\n",
    "header = ['object_types', 'simbad_companions']\n",
    "rows = list(zip(object_types, simbad_companions))\n",
    "rows = pd.DataFrame(rows, columns=header)\n",
    "rows.to_csv('/Users/Jess/HGCA_survey_paper/simbad_data.csv', index=False)"
   ]
  }
 ],
 "metadata": {
  "kernelspec": {
   "display_name": "Python 3",
   "language": "python",
   "name": "python3"
  },
  "language_info": {
   "codemirror_mode": {
    "name": "ipython",
    "version": 3
   },
   "file_extension": ".py",
   "mimetype": "text/x-python",
   "name": "python",
   "nbconvert_exporter": "python",
   "pygments_lexer": "ipython3",
   "version": "3.7.4"
  }
 },
 "nbformat": 4,
 "nbformat_minor": 4
}
