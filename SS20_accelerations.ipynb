{
 "cells": [
  {
   "cell_type": "markdown",
   "metadata": {},
   "source": [
    "# Determining Acceleration for Each Star in the Sample"
   ]
  },
  {
   "cell_type": "markdown",
   "metadata": {},
   "source": [
    "ACKNOWLEDGEMENT: Code based on accelerations code written by Elena Mitra.\n",
    "\n",
    "This code uses proper motion and position values to determine the acceration of a given system."
   ]
  },
  {
   "cell_type": "code",
   "execution_count": 10,
   "metadata": {},
   "outputs": [],
   "source": [
    "# Necessary modules \n",
    "import pandas as pd\n",
    "import csv\n",
    "import astropy.units as u\n",
    "import numpy as np"
   ]
  },
  {
   "cell_type": "code",
   "execution_count": 2,
   "metadata": {},
   "outputs": [],
   "source": [
    "# Pulling the sample to search.\n",
    "my_sample = pd.read_csv('/Users/Jess/HGCA_survey_paper/completed_cross_match.csv')\n",
    "pmdec_hip = pd.read_csv('/Users/Jess/HGCA_survey_paper/pmdec_hip.csv')"
   ]
  },
  {
   "cell_type": "code",
   "execution_count": 3,
   "metadata": {},
   "outputs": [],
   "source": [
    "# Pulling necessary values from the data table.\n",
    "parallax = my_sample['gaia_parallax']\n",
    "hip_id = my_sample['hip_id']\n",
    "rad_vel = my_sample['rad_vel']\n",
    "pmra_hip = my_sample['pmra_hip']\n",
    "pmdec_hip = pmdec_hip\n",
    "pmra_gaia = my_sample['pmra_gaia']\n",
    "pmdec_gaia = my_sample['pmdec_gaia']\n",
    "pmra_hg = my_sample['pmra_hg']\n",
    "pmdec_hg = my_sample['pmdec_hg']\n",
    "epoch_ra_gaia = my_sample['epoch_ra_gaia']\n",
    "epoch_dec_gaia = my_sample['epoch_dec_gaia']\n",
    "epoch_ra_hip = my_sample['epoch_ra_hip']\n",
    "epoch_dec_hip = my_sample['epoch_dec_hip']"
   ]
  },
  {
   "cell_type": "code",
   "execution_count": 4,
   "metadata": {},
   "outputs": [],
   "source": [
    "pmrahipl, pmragaial, pmrahgl, pmdechipl, pmdecgaial, pmdechgl, rahipepochl, ragaiaepochl, dechipepochl, decgaiaepochl, plxl = ([] for i in range(11))"
   ]
  },
  {
   "cell_type": "code",
   "execution_count": 5,
   "metadata": {},
   "outputs": [],
   "source": [
    "# Cycle through each star and create lists of the values needed in the right units. \n",
    "for i in range(len(hip_id)):\n",
    "\n",
    "    pmrahipl.append(pmra_hip.iloc[i]*u.mas/u.yr) #mas/yr\n",
    "    pmragaial.append(pmra_gaia.iloc[i]*u.mas/u.yr) #mas/yr\n",
    "    pmrahgl.append(pmra_hg.iloc[i]*u.mas/u.yr) #mas/yr\n",
    "    pmdechipl.append(pmdec_hip.iloc[i]*u.mas/u.yr) #mas/yr\n",
    "    pmdecgaial.append(pmdec_gaia.iloc[i]*u.mas/u.yr) #mas/yr\n",
    "    pmdechgl.append(pmdec_hg.iloc[i]*u.mas/u.yr) #mas/yr\n",
    "    rahipepochl.append(epoch_ra_hip.iloc[i]*u.yr) #yr\n",
    "    ragaiaepochl.append(epoch_ra_gaia.iloc[i]*u.yr) #yr\n",
    "    dechipepochl.append(epoch_dec_hip.iloc[i]*u.yr) #yr\n",
    "    decgaiaepochl.append(epoch_ra_gaia.iloc[i]*u.yr) #yr\n",
    "    plxl.append((parallax.iloc[i])*u.mas) #parallax in mas"
   ]
  },
  {
   "cell_type": "code",
   "execution_count": 6,
   "metadata": {},
   "outputs": [],
   "source": [
    "# Determine the distance to each of the stars.\n",
    "d_list = []\n",
    "for i in plxl:\n",
    "    d = i.to(u.parsec, equivalencies=u.parallax())\n",
    "    d_list.append(d)"
   ]
  },
  {
   "cell_type": "code",
   "execution_count": 7,
   "metadata": {},
   "outputs": [],
   "source": [
    "# Set up lists for acceperations that will be calculated. \n",
    "acc_ra_numl, acc_ra_denl, acc_dec_numl, acc_dec_denl, acc_ra_num2, acc_dec_num2 = ([] for i in range(6))\n",
    "\n",
    "# Cycle through all stars and determine the numerator and denominator of later equations. \n",
    "# del mu (in mas/yr) * parallax (in parsec) converted to (mas pc/yr)\n",
    "for i in range(len(d_list)):\n",
    "    acc_ra_numl.append((pmragaial[i] - pmrahgl[i])* d_list[i]) \n",
    "    acc_ra_denl.append((ragaiaepochl[i] - rahipepochl[i]) / 2)\n",
    "    \n",
    "    acc_dec_numl.append((pmdecgaial[i] - pmdechgl[i]) * d_list[i])\n",
    "    acc_dec_denl.append((decgaiaepochl[i] - dechipepochl[i]) / 2)\n",
    "    \n",
    "    # Change the units in both of the numerators\n",
    "    acc_ra_num2.append(acc_ra_numl[i].to(u.m / u.second, equivalencies=u.dimensionless_angles()))\n",
    "    acc_dec_num2.append(acc_dec_numl[i].to(u.m / u.second, equivalencies=u.dimensionless_angles()))"
   ]
  },
  {
   "cell_type": "code",
   "execution_count": 8,
   "metadata": {},
   "outputs": [],
   "source": [
    "# Use these numerators and denominators to determine the acceleration in RA and Dec\n",
    "acc_ral, acc_decl = [], []\n",
    "\n",
    "for i in range(len(acc_ra_numl)):\n",
    "    acc_ral.append(acc_ra_num2[i] / acc_ra_denl[i])\n",
    "    acc_decl.append(acc_dec_num2[i] / acc_dec_denl[i])"
   ]
  },
  {
   "cell_type": "code",
   "execution_count": 11,
   "metadata": {},
   "outputs": [],
   "source": [
    "# Combine the acceleration in RA and Dec in quadrature to determine the astrometric acceleration, and save to a list.\n",
    "astrometric_accel = []\n",
    "for i in range(len(acc_ral)):\n",
    "    astrometric_acc = np.sqrt(acc_ral[i] ** 2 + acc_decl[i] ** 2)\n",
    "    astrometric_accel.append(astrometric_acc)"
   ]
  },
  {
   "cell_type": "code",
   "execution_count": 12,
   "metadata": {},
   "outputs": [],
   "source": [
    "# Save astrometric acceleration list to a file. \n",
    "with open('/Users/Jess/HGCA_survey_paper/accelerations.csv', 'w') as f:\n",
    "    writer = csv.writer(f)\n",
    "    for val in astrometric_accel:\n",
    "        writer.writerow([val])"
   ]
  }
 ],
 "metadata": {
  "kernelspec": {
   "display_name": "Python 3",
   "language": "python",
   "name": "python3"
  },
  "language_info": {
   "codemirror_mode": {
    "name": "ipython",
    "version": 3
   },
   "file_extension": ".py",
   "mimetype": "text/x-python",
   "name": "python",
   "nbconvert_exporter": "python",
   "pygments_lexer": "ipython3",
   "version": "3.7.4"
  }
 },
 "nbformat": 4,
 "nbformat_minor": 4
}
