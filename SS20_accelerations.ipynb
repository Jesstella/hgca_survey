{
 "cells": [
  {
   "cell_type": "markdown",
   "metadata": {},
   "source": [
    "# Determining Acceleration for Each Star in the Sample"
   ]
  },
  {
   "cell_type": "markdown",
   "metadata": {},
   "source": [
    "ACKNOWLEDGEMENT: Code based on accelerations code written by Elena Mitra.\n",
    "\n",
    "This code uses proper motion and position values to determine the acceration of a given system."
   ]
  },
  {
   "cell_type": "code",
   "execution_count": 7,
   "metadata": {},
   "outputs": [],
   "source": [
    "# Necessary modules \n",
    "import pandas as pd\n",
    "import csv\n",
    "import astropy.units as u\n",
    "import numpy as np"
   ]
  },
  {
   "cell_type": "code",
   "execution_count": 8,
   "metadata": {},
   "outputs": [],
   "source": [
    "# Pulling the sample to search.\n",
    "my_sample = pd.read_csv('/Users/Jess/HGCA_survey_paper/completed_cross_match.csv')\n",
    "pmdec_hip = pd.read_csv('/Users/Jess/HGCA_survey_paper/pmdec_hip.csv')"
   ]
  },
  {
   "cell_type": "code",
   "execution_count": 9,
   "metadata": {},
   "outputs": [],
   "source": [
    "# Pulling necessary values from the data table.\n",
    "parallax = my_sample['gaia_parallax']\n",
    "err_parallax = my_sample['gaia_parallex_err']\n",
    "\n",
    "hip_id = my_sample['hip_id']\n",
    "\n",
    "rad_vel = my_sample['rad_vel']\n",
    "err_rad_vel = my_sample['rad_vel_err']\n",
    "\n",
    "pmra_hip = my_sample['pmra_hip']\n",
    "err_pmra_hip = my_sample['pmra_hip_error']\n",
    "\n",
    "pmdec_hip = pmdec_hip\n",
    "err_pmdec_hip = my_sample['pmdec_hip_error']\n",
    "\n",
    "pmra_gaia = my_sample['pmra_gaia']\n",
    "err_pmra_gaia = my_sample['pmra_gaia_err']\n",
    "\n",
    "pmdec_gaia = my_sample['pmdec_gaia']\n",
    "err_pmdec_gaia = my_sample['pmdec_gaia_err']\n",
    "\n",
    "pmra_hg = my_sample['pmra_hg']\n",
    "err_pmra_hg = my_sample['pmra_hg_error']\n",
    "\n",
    "pmdec_hg = my_sample['pmdec_hg']\n",
    "err_pmdec_hg = my_sample['pmdec_hg_error']\n",
    "\n",
    "epoch_ra_gaia = my_sample['epoch_ra_gaia']\n",
    "epoch_dec_gaia = my_sample['epoch_dec_gaia']\n",
    "epoch_ra_hip = my_sample['epoch_ra_hip']\n",
    "epoch_dec_hip = my_sample['epoch_dec_hip']"
   ]
  },
  {
   "cell_type": "code",
   "execution_count": 10,
   "metadata": {},
   "outputs": [],
   "source": [
    "pmrahipl, pmrahipel, pmragaial, pmragaiael, pmrahgl, pmrahgel, pmdechipl, pmdechipel, pmdecgaial, pmdecgaiael, pmdechgl, pmdechgel, rahipepochl, ragaiaepochl, dechipepochl, decgaiaepochl, plxl, plxel = ([] for i in range(18))"
   ]
  },
  {
   "cell_type": "code",
   "execution_count": 11,
   "metadata": {},
   "outputs": [],
   "source": [
    "# Cycle through each star and create lists of the values needed in the right units. \n",
    "for i in range(len(hip_id)):\n",
    "\n",
    "    pmrahipl.append(pmra_hip.iloc[i]*u.mas/u.yr) #mas/yr\n",
    "    pmrahipel.append(err_pmra_hip.iloc[i]*u.mas/u.yr)\n",
    "    \n",
    "    pmragaial.append(pmra_gaia.iloc[i]*u.mas/u.yr) #mas/yr\n",
    "    pmragaiael.append(err_pmra_gaia.iloc[i]*u.mas/u.yr)\n",
    "    \n",
    "    pmrahgl.append(pmra_hg.iloc[i]*u.mas/u.yr) #mas/yr\n",
    "    pmrahgel.append(err_pmra_hg.iloc[i]*u.mas/u.yr)\n",
    "    \n",
    "    pmdechipl.append(pmdec_hip.iloc[i]*u.mas/u.yr) #mas/yr\n",
    "    pmdechipel.append(err_pmdec_hip.iloc[i]*u.mas/u.yr)\n",
    "    \n",
    "    pmdecgaial.append(pmdec_gaia.iloc[i]*u.mas/u.yr) #mas/yr\n",
    "    pmdecgaiael.append(err_pmdec_gaia.iloc[i]*u.mas/u.yr)\n",
    "    \n",
    "    pmdechgl.append(pmdec_hg.iloc[i]*u.mas/u.yr) #mas/yr\n",
    "    pmdechgel.append(err_pmdec_hg.iloc[i]*u.mas/u.yr)\n",
    "    \n",
    "    rahipepochl.append(epoch_ra_hip.iloc[i]*u.yr) #yr\n",
    "    ragaiaepochl.append(epoch_ra_gaia.iloc[i]*u.yr) #yr\n",
    "    dechipepochl.append(epoch_dec_hip.iloc[i]*u.yr) #yr\n",
    "    decgaiaepochl.append(epoch_ra_gaia.iloc[i]*u.yr) #yr\n",
    "    \n",
    "    plxl.append((parallax.iloc[i])*u.mas) #parallax in mas\n",
    "    plxel.append((err_parallax.iloc[i])*u.mas)"
   ]
  },
  {
   "cell_type": "code",
   "execution_count": 52,
   "metadata": {},
   "outputs": [],
   "source": [
    "# Determine the distance to each of the stars.\n",
    "d_list = []\n",
    "d_4_err = []\n",
    "d_err_list = []\n",
    "\n",
    "for i in range(len(plxl)):    \n",
    "    d = plxl[i].to(u.parsec, equivalencies=u.parallax())\n",
    "    d_list.append(d)\n",
    "\n",
    "    a = 1/(plxl[i]*1e-3)\n",
    "    b = str(a)[:-8]\n",
    "    c = float(b)\n",
    "    d_4_err.append(c)\n",
    "    \n",
    "    d = (plxel[i] / (plxl[i]**2))\n",
    "    e = str(d)[:-8]\n",
    "    f = float(e)\n",
    "    d_err_list.append(f)"
   ]
  },
  {
   "cell_type": "code",
   "execution_count": 53,
   "metadata": {},
   "outputs": [],
   "source": [
    "# Set up lists for acceperations that will be calculated. \n",
    "acc_ra_numl, acc_ra_denl, acc_dec_numl, acc_dec_denl, acc_ra_num2, acc_dec_num2 = ([] for i in range(6))\n",
    "\n",
    "# Cycle through all stars and determine the numerator and denominator of later equations. \n",
    "# del mu (in mas/yr) * parallax (in parsec) converted to (mas pc/yr)\n",
    "for i in range(len(d_list)):\n",
    "    acc_ra_numl.append((pmragaial[i] - pmrahgl[i])* d_list[i]) \n",
    "    acc_ra_denl.append((ragaiaepochl[i] - rahipepochl[i]) / 2)\n",
    "    \n",
    "    acc_dec_numl.append((pmdecgaial[i] - pmdechgl[i]) * d_list[i])\n",
    "    acc_dec_denl.append((decgaiaepochl[i] - dechipepochl[i]) / 2)\n",
    "    \n",
    "    # Change the units in both of the numerators\n",
    "    acc_ra_num2.append(acc_ra_numl[i].to(u.m / u.second, equivalencies=u.dimensionless_angles()))\n",
    "    acc_dec_num2.append(acc_dec_numl[i].to(u.m / u.second, equivalencies=u.dimensionless_angles()))"
   ]
  },
  {
   "cell_type": "code",
   "execution_count": 63,
   "metadata": {},
   "outputs": [],
   "source": [
    "# Use these numerators and denominators to determine the acceleration in RA and Dec\n",
    "acc_ral, acc_rael, acc_decl, acc_decel = [], [], [], []\n",
    "\n",
    "for i in range(len(acc_ra_numl)):\n",
    "    acc_ral.append(acc_ra_num2[i] / acc_ra_denl[i])\n",
    "    acc_decl.append(acc_dec_num2[i] / acc_dec_denl[i])\n",
    "    \n",
    "    err_acc_ra = np.sqrt((err_pmra_gaia[i]/pmra_gaia[i])**2 + (err_pmra_hg[i]/pmra_hg[i])**2 + (d_err_list[i]**2/d_4_err[i]**4))\n",
    "    err_acc_dec = np.sqrt((err_pmdec_gaia[i]/pmdec_gaia[i])**2 + (err_pmdec_hg[i]/pmdec_hg[i])**2 + (d_err_list[i]**2/d_4_err[i]**4))\n",
    "    \n",
    "    acc_rael.append(err_acc_ra)\n",
    "    acc_decel.append(err_acc_dec)"
   ]
  },
  {
   "cell_type": "code",
   "execution_count": 65,
   "metadata": {},
   "outputs": [],
   "source": [
    "# Combine the acceleration in RA and Dec in quadrature to determine the astrometric acceleration, and save to a list.\n",
    "astrometric_accel_quantity = []\n",
    "err_astrometric_accel_quantity = []\n",
    "\n",
    "for i in range(len(acc_ral)):\n",
    "    astrometric_acc = np.sqrt(acc_ral[i] ** 2 + acc_decl[i] ** 2)\n",
    "    astrometric_accel_quantity.append(astrometric_acc)\n",
    "    \n",
    "for i in range(len(acc_decel)):\n",
    "    err_astrometric_acc = np.sqrt(acc_rael[i] ** 2 + acc_decel[i] ** 2)\n",
    "    err_astrometric_accel_quantity.append(err_astrometric_acc)\n",
    "    \n",
    "astrometric_accel = []\n",
    "astrometric_accel_err = []\n",
    "\n",
    "for i in range(len(astrometric_accel_quantity)):\n",
    "    str_i = str(astrometric_accel_quantity[i])\n",
    "    str_ii = str(err_astrometric_accel_quantity[i])\n",
    "    \n",
    "    str_i_cut = str_i[0:-10]\n",
    "    str_ii_cut = str_ii[0:-10]\n",
    "    \n",
    "    astrometric_accel.append(str_i_cut)\n",
    "    astrometric_accel_err.append(str_ii_cut)"
   ]
  },
  {
   "cell_type": "code",
   "execution_count": 66,
   "metadata": {},
   "outputs": [],
   "source": [
    "# Create a csv file with the acceleration column\n",
    "header = ['acceleration', 'acceleration_err']\n",
    "row = zip(astrometric_accel, astrometric_accel_err)\n",
    "accel_file = pd.DataFrame(row, columns=header)\n",
    "accel_file.to_csv('/Users/Jess/HGCA_survey_paper/accelerations.csv', index=False)"
   ]
  },
  {
   "cell_type": "code",
   "execution_count": null,
   "metadata": {},
   "outputs": [],
   "source": []
  }
 ],
 "metadata": {
  "kernelspec": {
   "display_name": "Python 3",
   "language": "python",
   "name": "python3"
  },
  "language_info": {
   "codemirror_mode": {
    "name": "ipython",
    "version": 3
   },
   "file_extension": ".py",
   "mimetype": "text/x-python",
   "name": "python",
   "nbconvert_exporter": "python",
   "pygments_lexer": "ipython3",
   "version": "3.7.4"
  }
 },
 "nbformat": 4,
 "nbformat_minor": 4
}
