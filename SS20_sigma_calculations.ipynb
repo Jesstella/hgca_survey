{
 "cells": [
  {
   "cell_type": "markdown",
   "metadata": {},
   "source": [
    "# Creates sigma values for the RA and Dec for Both Gaia and Hipparcos"
   ]
  },
  {
   "cell_type": "code",
   "execution_count": null,
   "metadata": {},
   "outputs": [],
   "source": []
  },
  {
   "cell_type": "code",
   "execution_count": 2,
   "metadata": {},
   "outputs": [],
   "source": [
    "# Necessary Modules \n",
    "import pandas as pd\n",
    "import numpy as np"
   ]
  },
  {
   "cell_type": "code",
   "execution_count": 4,
   "metadata": {},
   "outputs": [],
   "source": [
    "completed_comparison_file = pd.read_csv('/Users/Jess/HGCA_survey_paper/completed_cross_match.csv')\n",
    "pmdec_hip = pd.read_csv('/Users/Jess/HGCA_survey_paper/pmdec_hip.csv')"
   ]
  },
  {
   "cell_type": "code",
   "execution_count": 5,
   "metadata": {},
   "outputs": [],
   "source": [
    "#sig_ra_g \n",
    "numerator = completed_comparison_file['pmra_gaia'] - completed_comparison_file['pmra_hg']\n",
    "denominator = np.sqrt(completed_comparison_file['pmra_gaia_err']**2 + completed_comparison_file['pmra_hg_error']**2)\n",
    "sigma_ra_g = numerator/denominator\n",
    "\n",
    "#sig_dec_g \n",
    "numerator = completed_comparison_file['pmdec_gaia'] - completed_comparison_file['pmdec_hg']\n",
    "denominator = np.sqrt(completed_comparison_file['pmdec_gaia_err']**2 + completed_comparison_file['pmdec_hg_error']**2)\n",
    "sigma_dec_g = numerator/denominator\n",
    "\n",
    "#sig_ra_hip \n",
    "numerator = completed_comparison_file['pmra_hip'] - completed_comparison_file['pmra_hg']\n",
    "denominator = np.sqrt(completed_comparison_file['pmra_hip_error']**2 + completed_comparison_file['pmra_hg_error']**2)\n",
    "sigma_ra_hip = numerator/denominator\n",
    "\n",
    "#sig_dec_hip \n",
    "numerator = pmdec_hip - completed_comparison_file['pmdec_hg']\n",
    "denominator = np.sqrt(completed_comparison_file['pmdec_hip_error']**2 + completed_comparison_file['pmdec_hg_error']**2)\n",
    "sigma_dec_hip = numerator/denominator"
   ]
  },
  {
   "cell_type": "code",
   "execution_count": 8,
   "metadata": {},
   "outputs": [],
   "source": [
    "rows = list(zip(sigma_ra_g, sigma_dec_g, sigma_ra_hip, sigma_dec_hip))\n",
    "header = ['sigma_ra_g', 'sigma_dec_g', 'sigma_ra_hip', 'sigma_dec_hip']\n",
    "sigma_values = pd.DataFrame(rows, columns=header)\n",
    "sigma_values.to_csv('/Users/Jess/HGCA_survey_paper/sigma_values.csv', index=False)"
   ]
  },
  {
   "cell_type": "code",
   "execution_count": null,
   "metadata": {},
   "outputs": [],
   "source": []
  }
 ],
 "metadata": {
  "kernelspec": {
   "display_name": "Python 3",
   "language": "python",
   "name": "python3"
  },
  "language_info": {
   "codemirror_mode": {
    "name": "ipython",
    "version": 3
   },
   "file_extension": ".py",
   "mimetype": "text/x-python",
   "name": "python",
   "nbconvert_exporter": "python",
   "pygments_lexer": "ipython3",
   "version": "3.7.4"
  }
 },
 "nbformat": 4,
 "nbformat_minor": 4
}
