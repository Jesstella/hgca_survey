{
 "cells": [
  {
   "cell_type": "markdown",
   "metadata": {},
   "source": [
    "# Finding the Interesting Stars"
   ]
  },
  {
   "cell_type": "markdown",
   "metadata": {},
   "source": [
    "In the following script, an 'interesting' star is considered to be any star that does not have a companion in WDS, Simbad, Gaia or KOA and that has an astrometric acceleration >= 100 m/s/yr."
   ]
  },
  {
   "cell_type": "code",
   "execution_count": 83,
   "metadata": {},
   "outputs": [],
   "source": [
    "# Necessary Modules \n",
    "import numpy as np \n",
    "import pandas as pd \n",
    "from pandas import read_csv as rc\n",
    "import matplotlib.pyplot as plt"
   ]
  },
  {
   "cell_type": "code",
   "execution_count": 86,
   "metadata": {},
   "outputs": [],
   "source": [
    "# Opening necessary files containing lists\n",
    "path = '/Users/Jess/HGCA_survey_paper/'\n",
    "wds = rc(path + 'wds_values.csv')\n",
    "simbad = rc(path + 'simbad_data.csv')\n",
    "gaia = rc(path + 'gaia_companions.csv')\n",
    "koa = rc(path + 'koas.csv')\n",
    "accels = rc(path + 'accelerations.csv') "
   ]
  },
  {
   "cell_type": "code",
   "execution_count": 291,
   "metadata": {},
   "outputs": [],
   "source": [
    "# Pulling data for whether or not systems contain more than one star \n",
    "bool_wds = wds['wds_companions']\n",
    "bool_gaia = gaia['gaia_comps']\n",
    "bool_koa = koa['koa_comps']\n",
    "bool_simbad = simbad['simbad_companions']\n",
    "acc = accels['acceleration']"
   ]
  },
  {
   "cell_type": "code",
   "execution_count": 92,
   "metadata": {},
   "outputs": [
    {
     "name": "stdout",
     "output_type": "stream",
     "text": [
      "There are 2453 systems in this survey.\n",
      "There are 1055 systems with companions.\n",
      "There are 1398 systems without companions.\n"
     ]
    }
   ],
   "source": [
    "# Create a list of which stars have companions in ANY of the surveys\n",
    "companion = [] # 1 = companion and 0 = no companion\n",
    "\n",
    "for i in range(len(bool_wds)):\n",
    "    if bool_wds[i] == 0 and bool_gaia[i] == 0 and bool_koa[i] == 0 and bool_simbad[i] == 0:\n",
    "        companion.append(0) # no companion\n",
    "    else: \n",
    "        companion.append(1) # companion\n",
    "        \n",
    "print('There are ' + str(len(companion)) + ' systems in this survey.')\n",
    "print('There are ' + str(sum(companion)) + ' systems with companions.')\n",
    "print('There are ' + str(len(companion)-sum(companion)) + ' systems without companions.')"
   ]
  },
  {
   "cell_type": "code",
   "execution_count": 187,
   "metadata": {},
   "outputs": [
    {
     "data": {
      "image/png": "[encoded data removed]",
      "text/plain": [
       "<Figure size 432x288 with 1 Axes>"
      ]
     },
     "metadata": {
      "needs_background": "light"
     },
     "output_type": "display_data"
    }
   ],
   "source": [
    "# Create a histogram of how many systems were found to be multiple, in each survey. \n",
    "wds_plot = []\n",
    "gaia_plot = []\n",
    "\n",
    "for i in bool_wds:\n",
    "    if i == 0:\n",
    "        wds_plot.append(0)\n",
    "    else: \n",
    "        wds_plot.append(1)\n",
    "        \n",
    "for i in bool_gaia:\n",
    "    if i == 0:\n",
    "        gaia_plot.append(0)\n",
    "    else: \n",
    "        gaia_plot.append(1)\n",
    "        \n",
    "plt.bar([1, 2, 3, 4], [sum(wds_plot), sum(gaia_plot), sum(bool_koa), sum(bool_simbad)], color='#fbb4ae', edgecolor='black', tick_label=['WDS', 'Gaia', 'KOA', 'Simbad'])\n",
    "plt.ylim(0, sum(bool_simbad)+200)\n",
    "plt.xlabel('Survey')\n",
    "plt.ylabel('Number of Systems with AT LEAST 1 Companion')\n",
    "plt.text(0.9, sum(wds_plot)+20, str(sum(wds_plot)))\n",
    "plt.text(1.9, sum(gaia_plot)+20, str(sum(gaia_plot)))\n",
    "plt.text(2.9, sum(bool_koa)+20, str(sum(bool_koa)))\n",
    "plt.text(3.9, sum(bool_simbad)+20, str(sum(bool_simbad)))\n",
    "plt.savefig('/Users/Jess/HGCA_survey_paper/plots/companions_found.png')"
   ]
  },
  {
   "cell_type": "code",
   "execution_count": 286,
   "metadata": {},
   "outputs": [
    {
     "data": {
      "image/png": "[encoded data removed]",
      "text/plain": [
       "<Figure size 432x288 with 1 Axes>"
      ]
     },
     "metadata": {
      "needs_background": "light"
     },
     "output_type": "display_data"
    }
   ],
   "source": [
    "# Create a histogram of the amount of companions found around each star in WDS.\n",
    "plt.hist(bool_wds, max(bool_wds), histtype='bar', color='#b3cde3', edgecolor='black', align='right')\n",
    "plt.yscale('log')\n",
    "plt.ylabel('log(N)')\n",
    "plt.xlabel('Number of Companions found in a System (WDS)')\n",
    "plt.savefig('/Users/Jess/HGCA_survey_paper/plots/wds_companions.png')"
   ]
  },
  {
   "cell_type": "code",
   "execution_count": 287,
   "metadata": {},
   "outputs": [
    {
     "data": {
      "image/png": "[encoded data removed]",
      "text/plain": [
       "<Figure size 432x288 with 1 Axes>"
      ]
     },
     "metadata": {
      "needs_background": "light"
     },
     "output_type": "display_data"
    }
   ],
   "source": [
    "# Create a histogram of the amount of companions found around each star in Gaia.\n",
    "plt.hist(bool_gaia, max(bool_gaia), histtype='bar', color='#ccebc5', edgecolor='black', align='right')\n",
    "plt.yscale('log')\n",
    "plt.ylabel('log(N)')\n",
    "plt.xlabel('Number of Companions found in a System (Gaia)')\n",
    "plt.savefig('/Users/Jess/HGCA_survey_paper/plots/gaia_companions.png')"
   ]
  },
  {
   "cell_type": "code",
   "execution_count": 288,
   "metadata": {},
   "outputs": [
    {
     "name": "stdout",
     "output_type": "stream",
     "text": [
      "There are 2453 systems in this survey.\n",
      "There are 496 that are accelerating >= 100 m/s\n"
     ]
    }
   ],
   "source": [
    "# Determine which stars we will consider to be high accelerators.\n",
    "fast_stars = []\n",
    "\n",
    "for i in range(len(acc)):\n",
    "    if acc[i] >= 100:\n",
    "        fast_stars.append(1)\n",
    "    else: \n",
    "        fast_stars.append(0)\n",
    "\n",
    "print('There are ' + str(len(fast_stars)) + ' systems in this survey.')\n",
    "print('There are ' + str(sum(fast_stars)) + ' that are accelerating >= 100 m/s')"
   ]
  },
  {
   "cell_type": "code",
   "execution_count": 292,
   "metadata": {},
   "outputs": [
    {
     "name": "stdout",
     "output_type": "stream",
     "text": [
      "There are 200 systems.\n"
     ]
    }
   ],
   "source": [
    "# Determine which stars we will consider 'interesting': i.e. they accelerate at over 100 m/s/yr and have no companions.\n",
    "interesting = []\n",
    "for i in range(len(fast_stars)):\n",
    "    if companion[i] == 0 and fast_stars[i] == 1: \n",
    "        interesting.append(0)\n",
    "    else: \n",
    "        interesting.append(1)\n",
    "print('There are ' + str(len(interesting)-sum(interesting)) + ' systems.')\n",
    "\n",
    "qual_interesting = []\n",
    "for i in interesting: \n",
    "    if i == 1:\n",
    "        qual_interesting.append('NO')\n",
    "    else: \n",
    "        qual_interesting.append('YES')    "
   ]
  },
  {
   "cell_type": "code",
   "execution_count": 283,
   "metadata": {},
   "outputs": [],
   "source": [
    "# Save the qualitative 'interesting' row, ready to be added to the final spreadsheet.\n",
    "header = ['interesting']\n",
    "row = zip(qual_interesting)\n",
    "interesting_stars = pd.DataFrame(row, columns=header)\n",
    "interesting_stars.to_csv(path + 'interesting.csv', index=False)"
   ]
  }
 ],
 "metadata": {
  "kernelspec": {
   "display_name": "Python 3",
   "language": "python",
   "name": "python3"
  },
  "language_info": {
   "codemirror_mode": {
    "name": "ipython",
    "version": 3
   },
   "file_extension": ".py",
   "mimetype": "text/x-python",
   "name": "python",
   "nbconvert_exporter": "python",
   "pygments_lexer": "ipython3",
   "version": "3.7.4"
  }
 },
 "nbformat": 4,
 "nbformat_minor": 4
}
