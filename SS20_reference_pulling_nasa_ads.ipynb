{
 "cells": [
  {
   "cell_type": "markdown",
   "metadata": {},
   "source": [
    "# Reference Pulling from NASA ADS"
   ]
  },
  {
   "cell_type": "markdown",
   "metadata": {},
   "source": [
    "This code will pull all ADS references that contain HIP IDs in their full text. It will also count how many of these references are repeated more than once in the sample, and store this data."
   ]
  },
  {
   "cell_type": "code",
   "execution_count": 23,
   "metadata": {},
   "outputs": [],
   "source": [
    "import pandas as pd \n",
    "import numpy as np\n",
    "import ads\n",
    "from itertools import zip_longest\n",
    "import collections"
   ]
  },
  {
   "cell_type": "code",
   "execution_count": 24,
   "metadata": {},
   "outputs": [],
   "source": [
    "comps = pd.read_csv('/Users/Jess/HGCA_survey_paper/koa_wds_comps.csv')\n",
    "hip_id = comps['hip_id']"
   ]
  },
  {
   "cell_type": "code",
   "execution_count": 25,
   "metadata": {},
   "outputs": [],
   "source": [
    "hip_names_ads = []\n",
    "for i in hip_id:\n",
    "    name = 'full:\"hip '  + str(i) + '\"'\n",
    "    hip_names_ads.append(name)"
   ]
  },
  {
   "cell_type": "code",
   "execution_count": 303,
   "metadata": {
    "scrolled": true
   },
   "outputs": [],
   "source": [
    "rows = []\n",
    "\n",
    "for i in hip_names_ads:\n",
    "    row = []\n",
    "    papers = ads.SearchQuery(q=i)\n",
    "\n",
    "    paper_list = []\n",
    "    number_of_papers = []\n",
    "    \n",
    "    for paper in papers:\n",
    "        number_of_papers.append(1)\n",
    "        row.append(str(paper.first_author) + ', ' + str(paper.year))\n",
    "        row.append(paper.bibcode)\n",
    "    \n",
    "    if sum(number_of_papers) == 0:\n",
    "        row.append('No Papers')\n",
    "        rows.append(row)\n",
    "    else: \n",
    "        rows.append(row)"
   ]
  },
  {
   "cell_type": "code",
   "execution_count": 304,
   "metadata": {},
   "outputs": [],
   "source": [
    "rows_2 = list(zip_longest(*rows))\n",
    "ads_search = pd.DataFrame(rows_2, columns=hip_id)"
   ]
  },
  {
   "cell_type": "code",
   "execution_count": 305,
   "metadata": {},
   "outputs": [],
   "source": [
    "ads_search.to_csv('/Users/Jess/HGCA_survey_paper/ads_search.csv', index=False)"
   ]
  },
  {
   "cell_type": "code",
   "execution_count": 231,
   "metadata": {},
   "outputs": [],
   "source": [
    "multiple = pd.read_csv('/Users/Jess/HGCA_survey_paper/ads_search.csv')\n",
    "multi = multiple.values.tolist()"
   ]
  },
  {
   "cell_type": "code",
   "execution_count": 232,
   "metadata": {},
   "outputs": [],
   "source": [
    "flat_list = [item for sublist in multi for item in sublist]\n",
    "flat_list = flat_list[58:]\n",
    "cleanedList = [x for x in flat_list if str(x) != 'nan']"
   ]
  },
  {
   "cell_type": "code",
   "execution_count": 302,
   "metadata": {},
   "outputs": [],
   "source": [
    "dictionary = collections.Counter(cleanedList)\n",
    "if 'No Papers' in dictionary:\n",
    "    del dictionary['No Papers']"
   ]
  },
  {
   "cell_type": "code",
   "execution_count": 301,
   "metadata": {},
   "outputs": [],
   "source": [
    "keys_list = list(dictionary)\n",
    "values = dictionary.values()\n",
    "values_list = list(values)\n",
    "\n",
    "papers_with_multiples = []\n",
    "how_many_papers = []\n",
    "\n",
    "for i in range(len(keys_list)):\n",
    "    if values_list[i] == 1:\n",
    "        continue\n",
    "    else: \n",
    "        if keys_list[i][0] == str(1):\n",
    "            continue\n",
    "        elif keys_list[i][0] == str(2):\n",
    "            continue\n",
    "        else:    \n",
    "            papers_with_multiples.append(keys_list[i])\n",
    "            how_many_papers.append(values_list[i])"
   ]
  },
  {
   "cell_type": "code",
   "execution_count": 299,
   "metadata": {},
   "outputs": [],
   "source": [
    "multi_rows = zip(papers_with_multiples, how_many_papers)\n",
    "header = ['paper', 'repeat']"
   ]
  },
  {
   "cell_type": "code",
   "execution_count": 300,
   "metadata": {},
   "outputs": [],
   "source": [
    "multi_rows = pd.DataFrame(multi_rows, columns=header)\n",
    "multi_rows.to_csv('/Users/Jess/HGCA_survey_paper/multiple_references.csv', index=False)"
   ]
  }
 ],
 "metadata": {
  "kernelspec": {
   "display_name": "Python 3",
   "language": "python",
   "name": "python3"
  },
  "language_info": {
   "codemirror_mode": {
    "name": "ipython",
    "version": 3
   },
   "file_extension": ".py",
   "mimetype": "text/x-python",
   "name": "python",
   "nbconvert_exporter": "python",
   "pygments_lexer": "ipython3",
   "version": "3.7.4"
  }
 },
 "nbformat": 4,
 "nbformat_minor": 4
}
