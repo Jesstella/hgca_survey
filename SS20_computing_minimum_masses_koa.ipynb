{
 "cells": [
  {
   "cell_type": "markdown",
   "metadata": {},
   "source": [
    "# Computing the Minimum Masses for KOA Companions"
   ]
  },
  {
   "cell_type": "markdown",
   "metadata": {},
   "source": [
    "This code will compute the minimum masses for all our stars found with KOA observed companions. \n",
    "\n",
    "The mass equation used is as follows: \n",
    "\n",
    "$$M = \\frac{S^2a}{G}$$\n",
    "\n",
    "This is reduced from the following equation: \n",
    "\n",
    "$$M = \\frac{\\rho^2(a^2 + \\alpha^2)^{3/2}}{\\omega^2Ga^2}$$\n",
    "\n",
    "where $\\rho$ is the projected separation, $\\omega$ is the parallax, a is the astrometric acceleration, $\\alpha$ is the radial velocity acceleration and G is the gravitational constant. \n",
    "\n",
    "The projected separation is: \n",
    "\n",
    "$$\\rho = r_{AB}\\omega\\cos(\\phi)$$\n",
    "\n",
    "If both the parallax of the equation, and the parallax in the mass equation are neglected then we can use the separation predicted for the star in mas.\n",
    "\n",
    "The radial velocity accelerations are not available for these stars so this value reduces to 0. \n",
    "\n",
    "The error equation used is derived from the error propagation equation and is: \n",
    "\n",
    "$$\\delta M = \\sqrt{\\Bigg(\\frac{2Sa}{G}\\Bigg)^2\\delta S^2 + \\Bigg(\\frac{S^2}{G}\\Bigg)^2\\delta a^2}$$"
   ]
  },
  {
   "cell_type": "code",
   "execution_count": 83,
   "metadata": {},
   "outputs": [],
   "source": [
    "# Necessary Modules \n",
    "import numpy as np \n",
    "import pandas as pd\n",
    "import math\n",
    "import matplotlib.pyplot as plt"
   ]
  },
  {
   "cell_type": "code",
   "execution_count": 84,
   "metadata": {},
   "outputs": [],
   "source": [
    "koa_comps = pd.read_csv('/Users/Jess/HGCA_survey_paper/koa_companions_with_values.csv')\n",
    "r = koa_comps['sep']\n",
    "r_err = koa_comps['sep_err']\n",
    "hip_id = koa_comps['hip_id']"
   ]
  },
  {
   "cell_type": "code",
   "execution_count": 85,
   "metadata": {},
   "outputs": [],
   "source": [
    "full_sample = pd.read_csv('/Users/Jess/HGCA_survey_paper/final_spreadsheet.csv')\n",
    "all_hip_id = full_sample['hip_id']\n",
    "all_hip_id = list(all_hip_id)\n",
    "parallax = full_sample['gaia_parallax']\n",
    "para_err = full_sample['gaia_parallax_err']\n",
    "astro_accel = full_sample['accel']\n",
    "astro_accel_err = full_sample['accel_error']"
   ]
  },
  {
   "cell_type": "code",
   "execution_count": 86,
   "metadata": {},
   "outputs": [
    {
     "name": "stdout",
     "output_type": "stream",
     "text": [
      "Gravitational Constant in m^3kg^-1s^2$: 6.67e-11\n",
      "Mass of the Sun in kg: 1.989e+30\n"
     ]
    }
   ],
   "source": [
    "G = 6.67e-11\n",
    "print('Gravitational Constant in m^3kg^-1s^2$: ' + str(G))\n",
    "M_S = 1.989e30\n",
    "print('Mass of the Sun in kg: ' + str(M_S))\n",
    "rv_accel = 0 "
   ]
  },
  {
   "cell_type": "code",
   "execution_count": 87,
   "metadata": {},
   "outputs": [],
   "source": [
    "ind_for_para = []\n",
    "for i in hip_id:\n",
    "    if i in all_hip_id:\n",
    "        index = all_hip_id.index(i)\n",
    "        ind_for_para.append(index)\n",
    "    else:\n",
    "        continue\n",
    "        \n",
    "para_cut = []\n",
    "para_error_cut = []\n",
    "accel_cut = []\n",
    "accel_error_cut = []\n",
    "for i in ind_for_para:\n",
    "    para_cut.append(parallax[i])\n",
    "    para_error_cut.append(para_err[i])\n",
    "    accel_cut.append(astro_accel[i])\n",
    "    accel_error_cut.append(astro_accel_err[i])"
   ]
  },
  {
   "cell_type": "code",
   "execution_count": 88,
   "metadata": {},
   "outputs": [],
   "source": [
    "distances_parsec = []\n",
    "distances_error_parsec = []\n",
    "min_mass = []\n",
    "mass_error_list = []\n",
    "AU_sep_list = []\n",
    "AU_sep_list_error = []\n",
    "\n",
    "for i in range(len(accel_error_cut)):\n",
    "    rho = (r[i] * 1e-3 / 3600) * (math.pi / 180)\n",
    "    rho_err = (r_err[i] * 1e-3 / 3600) * (math.pi / 180)\n",
    "    \n",
    "    dist = (1 / (para_cut[i] * 1e-3)) * 3.086e16\n",
    "    dist_err = ((para_error_cut[i] * 1e-3) / ((para_cut[i] * 1e-3)**2)) * 3.086e16\n",
    "    distances_parsec.append(dist/3.086e16)\n",
    "    distances_error_parsec.append(dist_err/3.086e16)\n",
    "    \n",
    "    sep = rho * dist\n",
    "    sep_in_AU = sep / 1.496e11\n",
    "    AU_sep_list.append(sep_in_AU)\n",
    "    sep_error = np.sqrt((rho_err/rho)**2 + (dist_err/dist)**2) * sep\n",
    "    sep_error_AU = sep_error / 1.496e11\n",
    "    AU_sep_list_error.append(sep_error_AU)\n",
    "    \n",
    "    a = accel_cut[i] / 3.154e7\n",
    "    a_error = accel_error_cut[i] / 3.154e7\n",
    "    \n",
    "    M2 = (sep**2 * a) / G\n",
    "    min_mass.append(M2/M_S)\n",
    "    \n",
    "    partial_S = (2 * sep * a) / G\n",
    "    partial_a = sep**2 / a\n",
    "    \n",
    "    mass_error = np.sqrt((partial_S**2)*(sep_error**2) + (partial_a**2)*(a_error**2))\n",
    "    mass_error_list.append(mass_error/M_S)    "
   ]
  },
  {
   "cell_type": "code",
   "execution_count": 89,
   "metadata": {},
   "outputs": [],
   "source": [
    "# Create a table for these system parameters that can be fed into the compiled spreadsheet\n",
    "rows = zip(hip_id, distances_parsec, distances_error_parsec, AU_sep_list, AU_sep_list_error, min_mass, mass_error_list)\n",
    "header = ['hip_id', 'dist[pc]', 'dist_err[pc]', 'sep[au]', 'sep_err[au]', 'min_mass[msolar]', 'min_mass_err[msolar]']\n",
    "mass_table = pd.DataFrame(rows, columns=header)\n",
    "mass_table.to_csv('/Users/Jess/HGCA_survey_paper/minimum_masses_for_koa_companions.csv', index=False)"
   ]
  }
 ],
 "metadata": {
  "kernelspec": {
   "display_name": "Python 3",
   "language": "python",
   "name": "python3"
  },
  "language_info": {
   "codemirror_mode": {
    "name": "ipython",
    "version": 3
   },
   "file_extension": ".py",
   "mimetype": "text/x-python",
   "name": "python",
   "nbconvert_exporter": "python",
   "pygments_lexer": "ipython3",
   "version": "3.7.4"
  }
 },
 "nbformat": 4,
 "nbformat_minor": 4
}
