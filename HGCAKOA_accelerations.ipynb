{
 "cells": [
  {
   "cell_type": "markdown",
   "metadata": {},
   "source": [
    "# Determining Astrometric Acceleration for Each Star in the Sample"
   ]
  },
  {
   "cell_type": "markdown",
   "metadata": {},
   "source": [
    "ACKNOWLEDGEMENT: Code based on accelerations code written by Elena Mitra.\n",
    "\n",
    "This code uses proper motion and position values to determine the acceleration of a given system using the following equation: \n",
    "\n",
    "$$a_{\\alpha\\delta} = \\frac{2d(\\mu_{gaia} - \\mu_{hg})}{\\phi_{gaia} - \\phi_{hip}}$$\n",
    "\n",
    "The error propagation is derived using the standard error propagation equation. Starting with each acceleration individually, using the following equation (only RA shown, same for Dec): \n",
    "\n",
    "$$\\sigma{a_{\\alpha\\delta(\\alpha)}} = \\frac{2}{\\Delta\\phi} \\sqrt{d^2(\\sigma\\mu_{\\alpha G}^2 + \\sigma\\mu_{\\alpha HG}^2) + (\\mu_{\\alpha G} - \\mu_{\\alpha HG})^2\\sigma d^2}$$\n",
    "\n",
    "These two errors are then combined using the following equation for the total error on the astrometric acceleration:\n",
    "\n",
    "$$\\sigma a_{\\alpha\\delta} = \\Bigg(\\frac{a_{\\alpha\\delta RA}}{a_{\\alpha\\delta}}^2\\bigg)\\sigma a_{\\alpha\\delta RA}^2 + \\bigg(\\frac{a_{\\alpha\\delta Dec}}{a_{\\alpha\\delta}}\\bigg)\\sigma a_{\\alpha\\delta Dec}^2 \\pm \\frac{2a_{\\alpha\\delta RA}a_{\\alpha\\delta Dec}}{a_{\\alpha\\delta}^2}\\sigma a_{\\alpha\\delta RA}a_{\\alpha\\delta Dec}$$\n",
    "\n",
    "The variables are defined as follows: \n",
    "\n",
    "- $a_{\\alpha\\delta}$ = astrometric acceleration in $m/s/yr$\n",
    "- $d$ = distance in $pc$\n",
    "- $\\mu_{gaia}$ = proper motion from Gaia in $mas/yr$\n",
    "- $\\mu_{hg}$ = proper motion in HGCA for the combined Hipparcos-Gaia measurement in $mas/yr$\n",
    "- $\\phi_{gaia}$ = epoch of proper motion measurement from Gaia in $years$\n",
    "- $\\phi_{hip}$ = epoch of proper motion measurement from Hipparcos in $years$"
   ]
  },
  {
   "cell_type": "code",
   "execution_count": 24,
   "metadata": {},
   "outputs": [],
   "source": [
    "# Necessary modules \n",
    "import pandas as pd\n",
    "import astropy.units as u\n",
    "import numpy as np\n",
    "import os\n",
    "\n",
    "# Delete previous electronic table so that it can be overwritten \n",
    "os.remove('/Users/Jess/HGCA_survey_paper/accelerations_electronic_table.csv')"
   ]
  },
  {
   "cell_type": "markdown",
   "metadata": {},
   "source": [
    "The first step is to pull all the data we will need to calculate the accelerations. This includes the proper motions and parallax values. User should start by loading these dataframes and creating variables for each of the necessary columns. These are:\n",
    "\n",
    "- Parallax and associated error \n",
    "- HIP ID or star ID\n",
    "- RA proper motion for each star from Hipparcos and associated error\n",
    "- Dec proper motion for each star from Hipparcos and associated error\n",
    "- RA proper motion for each star from Gaia and associated error \n",
    "- Dec proper motion for each star from Gaia and associated error\n",
    "- RA proper motion for each star as a combination of Hipparcos and Gaia as determined by the HGCA catalog and associated error\n",
    "- Dec proper motion for each star as a combination of Hipparcos and Gaia as determined by the HGCA catalog and associated error\n",
    "- Epoch values for the Hipparcos measurement and associated error \n",
    "- Epoch values for the Gaia measurement and associated error\n"
   ]
  },
  {
   "cell_type": "code",
   "execution_count": 25,
   "metadata": {
    "scrolled": true
   },
   "outputs": [
    {
     "name": "stdout",
     "output_type": "stream",
     "text": [
      "The cross-match file has 1386 entries.\n",
      "The pmdec metric list has 1386 entries.\n",
      "\n",
      "The first five items in the my_sample file are:    hip_id              gaia_id          ra  ra_error        dec  dec_error  \\\n",
      "0    8387    91429481386429184   27.045801  0.131704  16.955387   0.105072   \n",
      "1   58684  1537396673318780544  180.526415  0.205209  43.045939   0.159836   \n",
      "2   14669   434690036554889856   47.375779  0.715960  45.731367   0.744419   \n",
      "3   39816   669664811098938240  122.035912  0.036658  19.215539   0.023396   \n",
      "4   50303   741357981454593536  154.059776  0.172669  29.310376   0.103583   \n",
      "\n",
      "     rad_vel  rad_vel_err  gaia_parallax  gaia_parallex_err  ...  lee_var  \\\n",
      "0        NaN          NaN      11.461327           0.151113  ...      0.0   \n",
      "1        NaN          NaN      28.203178           0.225391  ...      3.0   \n",
      "2  -4.555012     0.912451      57.108803           0.819751  ...      0.0   \n",
      "3  26.918345     0.170162      12.779728           0.039784  ...      0.0   \n",
      "4        NaN          NaN      11.692045           0.144923  ...      0.0   \n",
      "\n",
      "   lee_Hpmag  lee_e_Hpmag  lee_sHp  lee_VA  lee_B_V  lee_e_B_V  lee_V_I  \\\n",
      "0     5.8530       0.0010    0.004       0   -0.039      0.002    -0.02   \n",
      "1     5.2900       0.0006    0.007       0    0.283      0.004     0.32   \n",
      "2    10.1864       0.0032    0.023       0    1.473      0.034     1.91   \n",
      "3     7.7537       0.0013    0.008       0    0.619      0.015     0.69   \n",
      "4     5.5064       0.0006    0.005       0    0.020      0.004     0.04   \n",
      "\n",
      "   lee_HIP1  lee_Phot  \n",
      "0      HIP1      Phot  \n",
      "1      HIP1      Phot  \n",
      "2      HIP1      Phot  \n",
      "3      HIP1      Phot  \n",
      "4      HIP1      Phot  \n",
      "\n",
      "[5 rows x 220 columns].\n",
      "The first five items in the pmdec_hip file are:    hip_id   pmdec_hip\n",
      "0    8387  -33.124828\n",
      "1   58684   55.617035\n",
      "2   14669 -386.045105\n",
      "3   39816  -94.340828\n",
      "4   50303  -23.930593.\n",
      "The length and first five values of each of these lists are as follows:\n",
      "\n",
      "1386 parallax measurements. First five: [11.461326599121096, 28.20317840576172, 57.108802795410156, 12.779727935791016, 11.692045211791992].\n",
      "\n",
      "1386 parallax error measurements. First five: [0.15111343562602994, 0.22539059817790985, 0.8197510242462158, 0.039784248918294914, 0.14492292702198029].\n",
      "\n",
      "1386 HIP IDs. First five: [8387, 58684, 14669, 39816, 50303].\n",
      "\n",
      "1386 Hipparcos proper motion in RA measurements. First five: [55.18491744995117, -347.3367919921875, -429.67767333984375, -35.62554168701172, -71.22349548339844].\n",
      "\n",
      "1386 Hipparcos proper motion in RA error measurements. First five: [0.6071063280105591, 0.7495574951171875, 3.0109703540802, 0.8525307178497314, 0.4835397601127625].\n",
      "\n",
      "1386 Hipparcos proper motion in Dec measurements. First five: [-33.124828338623054, 55.61703491210938, -386.0451049804688, -94.34082794189452, -23.930593490600586].\n",
      "\n",
      "1386 Hipparcos proper motion in Dec error measurements. First five: [0.498509407043457, 0.7443293333053589, 2.663987398147583, 0.6280116438865662, 0.3846060037612915].\n",
      "\n",
      "1386 Gaia proper motion in RA measurements. First five: [65.60846490878053, -316.3218530498142, -422.1790731393653, -35.71537608018759, -70.5898112568857].\n",
      "\n",
      "1386 Gaia proper motion in RA error measurements. First five: [0.395255982875824, 0.5828173160552979, 2.99749493598938, 0.12374050170183185, 0.4145205616950989].\n",
      "\n",
      "1386 Gaia proper motion in Dec measurements. First five: [-29.291042144980675, 85.92367256884891, -381.10328845304207, -93.639774203186, -22.95005698548399].\n",
      "\n",
      "1386 Gaia proper motion in Dec error measurements. First five: [0.2096334902031831, 0.3100065360398692, 1.7579089074183305, 0.0504123610594509, 0.2028741081270979].\n",
      "\n",
      "1386 combined proper motion in RA measurements. First five: [53.03286361694336, -326.8921203613281, -416.5796508789063, -35.50600051879883, -71.81317901611328].\n",
      "\n",
      "1386 combined proper motion in RA error measurements. First five: [0.022892463952302933, 0.026184869930148125, 0.17305254936218262, 0.03297718614339828, 0.02125033177435398].\n",
      "\n",
      "1386 combined proper motion in Dec measurements. First five: [-36.15827941894531, 70.55331420898438, -343.1890563964844, -93.9377899169922, -27.38750076293945].\n",
      "\n",
      "1386 combined proper motion in Dec error measurements. First five: [0.019281288608908653, 0.02427078224718571, 0.14822520315647125, 0.02048797532916069, 0.016703108325600624].\n",
      "\n",
      "1386 Gaia epoch in RA measurements. First five: [2015.5696875093051, 2015.8514819242791, 2015.5855247536933, 2015.595367194047, 2015.4113808589104].\n",
      "\n",
      "1386 Gaia epoch in Dec measurements. First five: [2015.4773150651504, 2015.5591991598287, 2015.557680392117, 2015.440276995273, 2015.4545968500383].\n",
      "\n",
      "1386 Hipparcos epoch in RA measurements. First five: [1991.2840584414594, 1991.3983976981906, 1991.2376918884, 1991.52937041383, 1991.147734544664].\n",
      "\n",
      "1386 Hipparcos epoch in Dec measurements. First five: [1991.3169957263544, 1991.7150405960226, 1991.2272392226414, 1991.20303384526, 1990.9998696966472].\n",
      "\n"
     ]
    }
   ],
   "source": [
    "# Pulling the sample to search.\n",
    "my_sample = pd.read_csv('/Users/Jess/HGCA_survey_paper/completed_cross_match.csv')\n",
    "pmdec_hip_file = pd.read_csv('/Users/Jess/HGCA_survey_paper/pmdec_hip.csv')\n",
    "\n",
    "print('The cross-match file has ' + str(len(my_sample)) + ' entries.')\n",
    "print('The pmdec metric list has ' + str(len(pmdec_hip_file)) + ' entries.\\n')\n",
    "print('The first five items in the my_sample file are: ' + str(my_sample[0:5]) + '.')\n",
    "print('The first five items in the pmdec_hip file are: ' + str(pmdec_hip_file[0:5]) + '.')\n",
    "\n",
    "# Pulling necessary values from the data table.\n",
    "print('The length and first five values of each of these lists are as follows:\\n')\n",
    "\n",
    "parallax = my_sample['gaia_parallax']\n",
    "print(str(len(parallax)) + ' parallax measurements. First five: ' + str(list(parallax[0:5])) + '.\\n')\n",
    "\n",
    "err_parallax = my_sample['gaia_parallex_err']\n",
    "print(str(len(err_parallax)) + ' parallax error measurements. First five: ' + str(list(err_parallax[0:5])) + '.\\n')\n",
    "\n",
    "hip_id = my_sample['hip_id']\n",
    "print(str(len(hip_id)) + ' HIP IDs. First five: ' + str(list(hip_id[0:5])) + '.\\n')\n",
    "\n",
    "pmra_hip = my_sample['pmra_hip']\n",
    "print(str(len(pmra_hip)) + ' Hipparcos proper motion in RA measurements. First five: ' + str(list(pmra_hip[0:5])) + '.\\n')\n",
    "\n",
    "err_pmra_hip = my_sample['pmra_hip_error']\n",
    "print(str(len(err_pmra_hip)) + ' Hipparcos proper motion in RA error measurements. First five: ' + str(list(err_pmra_hip[0:5])) + '.\\n')\n",
    "\n",
    "pmdec_hip = pmdec_hip_file['pmdec_hip']\n",
    "print(str(len(pmdec_hip)) + ' Hipparcos proper motion in Dec measurements. First five: ' + str(list(pmdec_hip[0:5])) + '.\\n')\n",
    "\n",
    "err_pmdec_hip = my_sample['pmdec_hip_error']\n",
    "print(str(len(err_pmdec_hip)) + ' Hipparcos proper motion in Dec error measurements. First five: ' + str(list(err_pmdec_hip[0:5])) + '.\\n')\n",
    "\n",
    "pmra_gaia = my_sample['pmra_gaia']\n",
    "print(str(len(pmra_gaia)) + ' Gaia proper motion in RA measurements. First five: ' + str(list(pmra_gaia[0:5])) + '.\\n')\n",
    "\n",
    "err_pmra_gaia = my_sample['pmra_gaia_err']\n",
    "print(str(len(err_pmra_gaia)) + ' Gaia proper motion in RA error measurements. First five: ' + str(list(err_pmra_gaia[0:5])) + '.\\n')\n",
    "\n",
    "pmdec_gaia = my_sample['pmdec_gaia']\n",
    "print(str(len(pmdec_gaia)) + ' Gaia proper motion in Dec measurements. First five: ' + str(list(pmdec_gaia[0:5])) + '.\\n')\n",
    "\n",
    "err_pmdec_gaia = my_sample['pmdec_gaia_err']\n",
    "print(str(len(err_pmdec_gaia)) + ' Gaia proper motion in Dec error measurements. First five: ' + str(list(err_pmdec_gaia[0:5])) + '.\\n')\n",
    "\n",
    "pmra_hg = my_sample['pmra_hg']\n",
    "print(str(len(pmra_hg)) + ' combined proper motion in RA measurements. First five: ' + str(list(pmra_hg[0:5])) + '.\\n')\n",
    "\n",
    "err_pmra_hg = my_sample['pmra_hg_error']\n",
    "print(str(len(err_pmra_hg)) + ' combined proper motion in RA error measurements. First five: ' + str(list(err_pmra_hg[0:5])) + '.\\n')\n",
    "\n",
    "pmdec_hg = my_sample['pmdec_hg']\n",
    "print(str(len(pmdec_hg)) + ' combined proper motion in Dec measurements. First five: ' + str(list(pmdec_hg[0:5])) + '.\\n')\n",
    "\n",
    "err_pmdec_hg = my_sample['pmdec_hg_error']\n",
    "print(str(len(err_pmdec_hg)) + ' combined proper motion in Dec error measurements. First five: ' + str(list(err_pmdec_hg[0:5])) + '.\\n')\n",
    "\n",
    "epoch_ra_gaia = my_sample['epoch_ra_gaia']\n",
    "print(str(len(epoch_ra_gaia)) + ' Gaia epoch in RA measurements. First five: ' + str(list(epoch_ra_gaia[0:5])) + '.\\n')\n",
    "\n",
    "epoch_dec_gaia = my_sample['epoch_dec_gaia']\n",
    "print(str(len(epoch_dec_gaia)) + ' Gaia epoch in Dec measurements. First five: ' + str(list(epoch_dec_gaia[0:5])) + '.\\n')\n",
    "\n",
    "epoch_ra_hip = my_sample['epoch_ra_hip']\n",
    "print(str(len(epoch_ra_hip)) + ' Hipparcos epoch in RA measurements. First five: ' + str(list(epoch_ra_hip[0:5])) + '.\\n')\n",
    "\n",
    "epoch_dec_hip = my_sample['epoch_dec_hip']\n",
    "print(str(len(epoch_dec_hip)) + ' Hipparcos epoch in Dec measurements. First five: ' + str(list(epoch_dec_hip[0:5])) + '.\\n')"
   ]
  },
  {
   "cell_type": "markdown",
   "metadata": {},
   "source": [
    "There are a lot of units and conversions to keep track of in this calculation so at this point, each of the variables are saved into lists and assigned a quantity using astropy quantity, as follows: \n",
    "\n",
    "- $mas/yr$ for each of the proper motion values and associated errors\n",
    "- $mas$ for the parallax values and associated errors\n",
    "- $year$ for the epoch values and associated errors"
   ]
  },
  {
   "cell_type": "code",
   "execution_count": 26,
   "metadata": {
    "scrolled": true
   },
   "outputs": [
    {
     "name": "stdout",
     "output_type": "stream",
     "text": [
      "The proper motion in Hipparcos RA will be in units of mas/yr [<Quantity 55.18491745 mas / yr>, <Quantity -347.33679199 mas / yr>, <Quantity -429.67767334 mas / yr>, <Quantity -35.62554169 mas / yr>, <Quantity -71.22349548 mas / yr>].\n",
      "\n",
      "The error in the Hipparcos proper motion in RA will be in units of mas/yr [<Quantity 0.60710633 mas / yr>, <Quantity 0.7495575 mas / yr>, <Quantity 3.01097035 mas / yr>, <Quantity 0.85253072 mas / yr>, <Quantity 0.48353976 mas / yr>].\n",
      "\n",
      "The proper motion in Gaia RA will be in units of mas/yr [<Quantity 65.60846491 mas / yr>, <Quantity -316.32185305 mas / yr>, <Quantity -422.17907314 mas / yr>, <Quantity -35.71537608 mas / yr>, <Quantity -70.58981126 mas / yr>].\n",
      "\n",
      "The error in the Gaia proper motion in RA will be in units of mas/yr [<Quantity 0.39525598 mas / yr>, <Quantity 0.58281732 mas / yr>, <Quantity 2.99749494 mas / yr>, <Quantity 0.1237405 mas / yr>, <Quantity 0.41452056 mas / yr>].\n",
      "\n",
      "The combined proper motion in RA will be in units of mas/yr [<Quantity 53.03286362 mas / yr>, <Quantity -326.89212036 mas / yr>, <Quantity -416.57965088 mas / yr>, <Quantity -35.50600052 mas / yr>, <Quantity -71.81317902 mas / yr>].\n",
      "\n",
      "The error in the combined proper motion in RA will be in units of mas/yr [<Quantity 0.02289246 mas / yr>, <Quantity 0.02618487 mas / yr>, <Quantity 0.17305255 mas / yr>, <Quantity 0.03297719 mas / yr>, <Quantity 0.02125033 mas / yr>].\n",
      "\n",
      "The proper motion in Hipparcos Dec will be in units of mas/yr [<Quantity -33.12482834 mas / yr>, <Quantity 55.61703491 mas / yr>, <Quantity -386.04510498 mas / yr>, <Quantity -94.34082794 mas / yr>, <Quantity -23.93059349 mas / yr>].\n",
      "\n",
      "The error in the Hipparcos proper moton in Dec will be in units of mas/yr [<Quantity 0.49850941 mas / yr>, <Quantity 0.74432933 mas / yr>, <Quantity 2.6639874 mas / yr>, <Quantity 0.62801164 mas / yr>, <Quantity 0.384606 mas / yr>].\n",
      "\n",
      "The proper motion in Gaia Dec will be in units of mas/yr [<Quantity -29.29104214 mas / yr>, <Quantity 85.92367257 mas / yr>, <Quantity -381.10328845 mas / yr>, <Quantity -93.6397742 mas / yr>, <Quantity -22.95005699 mas / yr>].\n",
      "\n",
      "The error in the Gaia proper motion in Dec will be in units of mas/yr [<Quantity 0.20963349 mas / yr>, <Quantity 0.31000654 mas / yr>, <Quantity 1.75790891 mas / yr>, <Quantity 0.05041236 mas / yr>, <Quantity 0.20287411 mas / yr>].\n",
      "\n",
      "The combined proper motion in Dec will be in units of mas/yr [<Quantity -36.15827942 mas / yr>, <Quantity 70.55331421 mas / yr>, <Quantity -343.1890564 mas / yr>, <Quantity -93.93778992 mas / yr>, <Quantity -27.38750076 mas / yr>].\n",
      "\n",
      "The error in the combined proper motion in Dec will be in units of mas/yr [<Quantity 0.01928129 mas / yr>, <Quantity 0.02427078 mas / yr>, <Quantity 0.1482252 mas / yr>, <Quantity 0.02048798 mas / yr>, <Quantity 0.01670311 mas / yr>].\n",
      "\n",
      "The Hipparcos RA epoch is in units of yr [<Quantity 1991.28405844 yr>, <Quantity 1991.3983977 yr>, <Quantity 1991.23769189 yr>, <Quantity 1991.52937041 yr>, <Quantity 1991.14773454 yr>].\n",
      "\n",
      "The Gaia RA epoch is in units of yr [<Quantity 2015.56968751 yr>, <Quantity 2015.85148192 yr>, <Quantity 2015.58552475 yr>, <Quantity 2015.59536719 yr>, <Quantity 2015.41138086 yr>].\n",
      "\n",
      "The Hipparcos Dec epoch is in units of yr [<Quantity 1991.31699573 yr>, <Quantity 1991.7150406 yr>, <Quantity 1991.22723922 yr>, <Quantity 1991.20303385 yr>, <Quantity 1990.9998697 yr>].\n",
      "\n",
      "The Gaia Dec epoch is in units of yr [<Quantity 2015.47731507 yr>, <Quantity 2015.55919916 yr>, <Quantity 2015.55768039 yr>, <Quantity 2015.440277 yr>, <Quantity 2015.45459685 yr>].\n",
      "\n",
      "The parallax will have units of mas [<Quantity 11.4613266 mas>, <Quantity 28.20317841 mas>, <Quantity 57.1088028 mas>, <Quantity 12.77972794 mas>, <Quantity 11.69204521 mas>].\n",
      "\n",
      "The error in parallax will have units of mas [<Quantity 0.15111344 mas>, <Quantity 0.2253906 mas>, <Quantity 0.81975102 mas>, <Quantity 0.03978425 mas>, <Quantity 0.14492293 mas>].\n",
      "\n"
     ]
    }
   ],
   "source": [
    "pmrahipl, pmrahipel, pmragaial, pmragaiael, pmrahgl, pmrahgel, pmdechipl, pmdechipel, pmdecgaial, pmdecgaiael, pmdechgl, pmdechgel, rahipepochl, ragaiaepochl, dechipepochl, decgaiaepochl, plxl, plxel = ([] for i in range(18))\n",
    "\n",
    "# Cycle through each star and create lists of the values needed in the right units. \n",
    "for i in range(len(hip_id)):\n",
    "\n",
    "    pmrahipl.append(pmra_hip.iloc[i]*u.mas/u.yr) #mas/yr\n",
    "    pmrahipel.append(err_pmra_hip.iloc[i]*u.mas/u.yr)\n",
    "    \n",
    "    pmragaial.append(pmra_gaia.iloc[i]*u.mas/u.yr) #mas/yr\n",
    "    pmragaiael.append(err_pmra_gaia.iloc[i]*u.mas/u.yr)\n",
    "    \n",
    "    pmrahgl.append(pmra_hg.iloc[i]*u.mas/u.yr) #mas/yr\n",
    "    pmrahgel.append(err_pmra_hg.iloc[i]*u.mas/u.yr)\n",
    "    \n",
    "    pmdechipl.append(pmdec_hip.iloc[i]*u.mas/u.yr) #mas/yr\n",
    "    pmdechipel.append(err_pmdec_hip.iloc[i]*u.mas/u.yr)\n",
    "    \n",
    "    pmdecgaial.append(pmdec_gaia.iloc[i]*u.mas/u.yr) #mas/yr\n",
    "    pmdecgaiael.append(err_pmdec_gaia.iloc[i]*u.mas/u.yr)\n",
    "    \n",
    "    pmdechgl.append(pmdec_hg.iloc[i]*u.mas/u.yr) #mas/yr\n",
    "    pmdechgel.append(err_pmdec_hg.iloc[i]*u.mas/u.yr)\n",
    "    \n",
    "    rahipepochl.append(epoch_ra_hip.iloc[i]*u.yr) #yr\n",
    "    ragaiaepochl.append(epoch_ra_gaia.iloc[i]*u.yr) #yr\n",
    "    \n",
    "    dechipepochl.append(epoch_dec_hip.iloc[i]*u.yr) #yr\n",
    "    decgaiaepochl.append(epoch_dec_gaia.iloc[i]*u.yr) #yr\n",
    "    \n",
    "    plxl.append((parallax.iloc[i])*u.mas) #parallax in mas\n",
    "    plxel.append((err_parallax.iloc[i])*u.mas)\n",
    "    \n",
    "# Checks:\n",
    "print('The proper motion in Hipparcos RA will be in units of mas/yr ' + str(pmrahipl[0:5]) + '.\\n')\n",
    "print('The error in the Hipparcos proper motion in RA will be in units of mas/yr ' + str(pmrahipel[0:5]) + '.\\n')\n",
    "print('The proper motion in Gaia RA will be in units of mas/yr ' + str(pmragaial[0:5]) + '.\\n')\n",
    "print('The error in the Gaia proper motion in RA will be in units of mas/yr ' + str(pmragaiael[0:5]) + '.\\n')\n",
    "print('The combined proper motion in RA will be in units of mas/yr ' + str(pmrahgl[0:5]) + '.\\n')\n",
    "print('The error in the combined proper motion in RA will be in units of mas/yr ' + str(pmrahgel[0:5]) + '.\\n')\n",
    "print('The proper motion in Hipparcos Dec will be in units of mas/yr ' + str(pmdechipl[0:5]) + '.\\n')\n",
    "print('The error in the Hipparcos proper moton in Dec will be in units of mas/yr ' + str(pmdechipel[0:5]) + '.\\n')\n",
    "print('The proper motion in Gaia Dec will be in units of mas/yr ' + str(pmdecgaial[0:5]) + '.\\n')\n",
    "print('The error in the Gaia proper motion in Dec will be in units of mas/yr ' + str(pmdecgaiael[0:5]) + '.\\n')\n",
    "print('The combined proper motion in Dec will be in units of mas/yr ' + str(pmdechgl[0:5]) + '.\\n')\n",
    "print('The error in the combined proper motion in Dec will be in units of mas/yr ' + str(pmdechgel[0:5]) + '.\\n')\n",
    "print('The Hipparcos RA epoch is in units of yr ' + str(rahipepochl[0:5]) + '.\\n')\n",
    "print('The Gaia RA epoch is in units of yr ' + str(ragaiaepochl[0:5]) + '.\\n')\n",
    "print('The Hipparcos Dec epoch is in units of yr ' + str(dechipepochl[0:5]) + '.\\n')\n",
    "print('The Gaia Dec epoch is in units of yr ' + str(decgaiaepochl[0:5]) + '.\\n')\n",
    "print('The parallax will have units of mas ' + str(plxl[0:5]) + '.\\n')\n",
    "print('The error in parallax will have units of mas ' + str(plxel[0:5]) + '.\\n')"
   ]
  },
  {
   "cell_type": "markdown",
   "metadata": {},
   "source": [
    "The distance is needed in the equation of acceleration and can be computed from the Gaia parallax. The quantity of parsec is applied to both the distance and the error. Equations used: \n",
    "\n",
    "$$d = \\frac{1}{\\varpi}$$ \n",
    "\n",
    "$$\\delta_{d} = \\frac{\\delta\\varpi}{\\varpi^2} $$\n",
    "\n",
    "where $\\varpi$ = parallax."
   ]
  },
  {
   "cell_type": "code",
   "execution_count": 27,
   "metadata": {},
   "outputs": [
    {
     "name": "stdout",
     "output_type": "stream",
     "text": [
      "The length of the distance list in quality is 1386.\n",
      "The length of the distance error list is 1386.\n",
      "\n",
      "The first five values of distance in quantity are [<Quantity 87.24993493 pc>, <Quantity 35.45699657 pc>, <Quantity 17.51043536 pc>, <Quantity 78.24892713 pc>, <Quantity 85.52823581 pc>].\n",
      "The first give values of distance error are [<Quantity 1.15035876 pc>, <Quantity 0.28336075 pc>, <Quantity 0.25134824 pc>, <Quantity 0.24359476 pc>, <Quantity 1.06012268 pc>].\n",
      "\n"
     ]
    }
   ],
   "source": [
    "# Determine the distance to each of the stars.\n",
    "d_list = []\n",
    "d_err_list = []\n",
    "\n",
    "for i in range(len(plxl)):    \n",
    "    d = plxl[i].to(u.parsec, equivalencies=u.parallax())\n",
    "    d_list.append(d)\n",
    "    \n",
    "    plxl_quant = plxl[i].to(u.parsec, equivalencies=u.parallax())\n",
    "    plxl_err_quant = plxel[i].to(u.parsec, equivalencies=u.parallax())\n",
    "    \n",
    "    d = ((plxl_quant)**2) / (plxl_err_quant)\n",
    "    d_err_list.append(d.to(u.pc))\n",
    "    \n",
    "print('The length of the distance list in quality is ' + str(len(d_list)) + '.')\n",
    "print('The length of the distance error list is ' + str(len(d_err_list)) + '.\\n')\n",
    "\n",
    "print('The first five values of distance in quantity are ' + str(d_list[0:5]) + '.')\n",
    "print('The first give values of distance error are ' + str(d_err_list[0:5]) + '.\\n')"
   ]
  },
  {
   "cell_type": "markdown",
   "metadata": {},
   "source": [
    "Now the acceleration for RA and Dec can be calcuated. The numerator and denominator are calculated seperately so that the units can be converted for the final acceleration equation. The units of the numerator are $m/s$ and the units of the denominator are $years$."
   ]
  },
  {
   "cell_type": "code",
   "execution_count": 28,
   "metadata": {},
   "outputs": [
    {
     "name": "stdout",
     "output_type": "stream",
     "text": [
      "The first five values of numerator RA acceleration are [<Quantity 1097.22039444 mas pc / yr>, <Quantity 374.78993181 mas pc / yr>, <Quantity -98.04832156 mas pc / yr>, <Quantity -16.38341305 mas pc / yr>, <Quantity 104.6324862 mas pc / yr>].\n",
      "\n",
      "The first five values of denominator RA acceleration are [<Quantity 12.14281453 yr>, <Quantity 12.22654211 yr>, <Quantity 12.17391643 yr>, <Quantity 12.03299839 yr>, <Quantity 12.13182316 yr>].\n",
      "\n",
      "The first five values of numerator Dec acceleration are [<Quantity 599.16600531 mas pc / yr>, <Quantity 544.98674365 mas pc / yr>, <Quantity -663.89470976 mas pc / yr>, <Quantity 23.31940987 mas pc / yr>, <Quantity 379.5267378 mas pc / yr>].\n",
      "\n",
      "The first five values of denominator Dec acceleration are [<Quantity 12.08015967 yr>, <Quantity 11.92207928 yr>, <Quantity 12.16522058 yr>, <Quantity 12.11862158 yr>, <Quantity 12.22736358 yr>].\n",
      "\n"
     ]
    }
   ],
   "source": [
    "# Set up lists for acceperations that will be calculated. \n",
    "acc_ra_numl, acc_ra_denl, acc_dec_numl, acc_dec_denl, acc_ra_num2, acc_dec_num2 = ([] for i in range(6))\n",
    "\n",
    "# Cycle through all stars and determine the numerator and denominator of later equations. \n",
    "# del mu (in mas/yr) * parallax (in parsec) converted to (mas pc/yr)\n",
    "for i in range(len(d_list)):\n",
    "#    # Acceleration in RA\n",
    "    acc_ra_numl.append((pmragaial[i] - pmrahgl[i]) * d_list[i]) # Numerator \n",
    "    acc_ra_denl.append((ragaiaepochl[i] - rahipepochl[i]) / 2) # Denominator\n",
    "#    \n",
    "#    # Acceleration in Dec\n",
    "    acc_dec_numl.append((pmdecgaial[i] - pmdechgl[i]) * d_list[i]) # Numerator \n",
    "    acc_dec_denl.append((decgaiaepochl[i] - dechipepochl[i]) / 2) # Demoninator\n",
    "#    \n",
    "#    # Change the units in both of the numerators\n",
    "    acc_ra_num2.append(acc_ra_numl[i].to(u.m / u.second, equivalencies=u.dimensionless_angles()))\n",
    "    acc_dec_num2.append(acc_dec_numl[i].to(u.m / u.second, equivalencies=u.dimensionless_angles()))\n",
    "    \n",
    "print('The first five values of numerator RA acceleration are ' + str(acc_ra_numl[0:5]) + '.\\n')\n",
    "print('The first five values of denominator RA acceleration are ' + str(acc_ra_denl[0:5]) + '.\\n')\n",
    "print('The first five values of numerator Dec acceleration are ' + str(acc_dec_numl[0:5]) + '.\\n')\n",
    "print('The first five values of denominator Dec acceleration are ' + str(acc_dec_denl[0:5]) + '.\\n')"
   ]
  },
  {
   "cell_type": "markdown",
   "metadata": {},
   "source": [
    "The numerator and denominator are now combined to create an acceleration value in RA and Dec for each star. The final value unit is $m/s/yr$. "
   ]
  },
  {
   "cell_type": "code",
   "execution_count": 29,
   "metadata": {},
   "outputs": [
    {
     "name": "stdout",
     "output_type": "stream",
     "text": [
      "There are 1386 RA acceleration values.\n",
      "There are 1386 Dec acceleration values.\n",
      "\n",
      "The first five RA values of acceleration are [<Quantity 428.34722191 m / (s yr)>, <Quantity 145.31341612 m / (s yr)>, <Quantity -38.17959281 m / (s yr)>, <Quantity -6.4543419 m / (s yr)>, <Quantity 40.88480387 m / (s yr)>].\n",
      "The first five Dec values of acceleration are [<Quantity 235.12344444 m / (s yr)>, <Quantity 216.69823696 m / (s yr)>, <Quantity -258.70252336 m / (s yr)>, <Quantity 9.12190987 m / (s yr)>, <Quantity 147.14008293 m / (s yr)>].\n"
     ]
    }
   ],
   "source": [
    "# Use these numerators and denominators to determine the acceleration in RA and Dec\n",
    "acc_ral, acc_rael, acc_decl, acc_decel =  [], [], [], []\n",
    "\n",
    "for i in range(len(acc_ra_numl)):\n",
    "    # Acceleration in RA and Dec\n",
    "    acc_ral.append(acc_ra_num2[i] / acc_ra_denl[i]) # RA \n",
    "    acc_decl.append(acc_dec_num2[i] / acc_dec_denl[i]) # Dec)\n",
    "    \n",
    "print('There are ' + str(len(acc_ral)) + ' RA acceleration values.')\n",
    "print('There are ' + str(len(acc_decl)) + ' Dec acceleration values.\\n')\n",
    "\n",
    "print('The first five RA values of acceleration are ' + str(acc_ral[0:5]) + '.')\n",
    "print('The first five Dec values of acceleration are ' + str(acc_decl[0:5]) + '.')"
   ]
  },
  {
   "cell_type": "markdown",
   "metadata": {},
   "source": [
    "The error for the RA and Dec accelerations are now propagated. "
   ]
  },
  {
   "cell_type": "code",
   "execution_count": 30,
   "metadata": {},
   "outputs": [
    {
     "name": "stdout",
     "output_type": "stream",
     "text": [
      "There are 1386 errors for RA.\n",
      "There are 1386 errors for Dec.\n",
      "\n",
      "The first five values for RA error are: [<Quantity 14.62049869 m / (s yr)>, <Quantity 8.10392877 m / (s yr)>, <Quantity 20.47974946 m / (s yr)>, <Quantity 3.94768982 m / (s yr)>, <Quantity 13.88067309 m / (s yr)>].\n",
      "The first five values for Dec error are: [<Quantity 7.84619308 m / (s yr)>, <Quantity 4.71364005 m / (s yr)>, <Quantity 12.59718805 m / (s yr)>, <Quantity 1.6658692 m / (s yr)>, <Quantity 6.99186882 m / (s yr)>].\n"
     ]
    }
   ],
   "source": [
    "ra_error = []\n",
    "dec_error = []\n",
    "\n",
    "for i in range(len(pmra_gaia)):\n",
    "    const = 2 / (ragaiaepochl[i] - rahipepochl[i])\n",
    "    \n",
    "    term_1 = (d_list[i] * pmragaiael[i]).to(u.m / u.second, equivalencies=u.dimensionless_angles())\n",
    "    term_2 = (d_list[i] * pmrahgel[i]).to(u.m / u.second, equivalencies=u.dimensionless_angles())\n",
    "    term_3 = ((pmragaial[i] - pmrahgl[i]) * d_err_list[i]).to(u.m / u.second, equivalencies=u.dimensionless_angles())\n",
    "    \n",
    "    ra_err = const * np.sqrt((term_1)**2 + (term_2)**2 + (term_3)**2)\n",
    "    ra_error.append(ra_err)\n",
    "    \n",
    "    const_2 = 2 / (decgaiaepochl[i] - dechipepochl[i])\n",
    "    \n",
    "    term_a = (d_list[i] * pmdecgaiael[i]).to(u.m / u.second, equivalencies=u.dimensionless_angles())\n",
    "    term_b = (d_list[i] * pmdechgel[i]).to(u.m / u.second, equivalencies=u.dimensionless_angles())\n",
    "    term_c = ((pmdecgaial[i] - pmdechgl[i]) * d_err_list[i]).to(u.m / u.second, equivalencies=u.dimensionless_angles())\n",
    "    \n",
    "    dec_err = const_2 * np.sqrt((term_a)**2 + (term_b)**2 + (term_c)**2)\n",
    "    dec_error.append(dec_err)\n",
    "    \n",
    "print('There are ' + str(len(ra_error)) + ' errors for RA.')\n",
    "print('There are ' + str(len(dec_error)) + ' errors for Dec.\\n')\n",
    "\n",
    "print('The first five values for RA error are: ' + str(ra_error[0:5]) + '.')\n",
    "print('The first five values for Dec error are: ' + str(dec_error[0:5]) + '.')"
   ]
  },
  {
   "cell_type": "markdown",
   "metadata": {},
   "source": [
    "The RA and Dec accelerations are then combined to find an overall acceleration for the system with a unit of $m/s/yr$. "
   ]
  },
  {
   "cell_type": "code",
   "execution_count": 31,
   "metadata": {},
   "outputs": [
    {
     "name": "stdout",
     "output_type": "stream",
     "text": [
      "There are 1386 values of acceleration.\n",
      "\n",
      "The first five values of astrometric acceleration are: [<Quantity 488.63521838 m / (s yr)>, <Quantity 260.91016616 m / (s yr)>, <Quantity 261.5046403 m / (s yr)>, <Quantity 11.17442477 m / (s yr)>, <Quantity 152.71467248 m / (s yr)>]\n"
     ]
    }
   ],
   "source": [
    "# Combine the acceleration in RA and Dec in quadrature to determine the astrometric acceleration, and save to a list.\n",
    "astrometric_accel_quantity = []\n",
    "\n",
    "for i in range(len(acc_ral)):\n",
    "    astrometric_acc = np.sqrt(acc_ral[i] ** 2 + acc_decl[i] ** 2)\n",
    "    astrometric_accel_quantity.append(astrometric_acc)\n",
    "\n",
    "print('There are ' + str(len(astrometric_accel_quantity)) + ' values of acceleration.\\n')\n",
    "\n",
    "print('The first five values of astrometric acceleration are: ' + str(astrometric_accel_quantity[0:5]))"
   ]
  },
  {
   "cell_type": "markdown",
   "metadata": {},
   "source": [
    "The error for the total astrometric acceleration can then be propagated. "
   ]
  },
  {
   "cell_type": "code",
   "execution_count": 32,
   "metadata": {},
   "outputs": [
    {
     "name": "stdout",
     "output_type": "stream",
     "text": [
      "[<Quantity 14.06688962 m / (s yr)>, <Quantity 6.40426936 m / (s yr)>, <Quantity 13.16135688 m / (s yr)>, <Quantity 2.14325098 m / (s yr)>, <Quantity 8.45180962 m / (s yr)>]\n"
     ]
    }
   ],
   "source": [
    "accel_error = []\n",
    "\n",
    "for i in range(len(ra_error)):\n",
    "    term_1 = (acc_ral[i] / astrometric_accel_quantity[i])**2 * (ra_error[i])**2 \n",
    "    \n",
    "    term_2 = (acc_decl[i] / astrometric_accel_quantity[i])**2 * (dec_error[i])**2 \n",
    "    covariance = np.cov([ra_error[i].value, dec_error[i].value])\n",
    "    covariance_value = covariance * (u.m / u.second / u.year)**2\n",
    "    \n",
    "    term_3 = (2 * acc_ral[i] * acc_decl[i] * covariance_value) / astrometric_accel_quantity[i]**2\n",
    "    \n",
    "    error = np.sqrt(term_1 + term_2 + term_3)\n",
    "    \n",
    "    accel_error.append(error)\n",
    "    \n",
    "print(accel_error[0:5])"
   ]
  },
  {
   "cell_type": "markdown",
   "metadata": {},
   "source": [
    "For each of the six variables calcuated, they are converted back into floats from quantities so that they can be saved into an easy to manipulate CSV file. The following is a list of calculated terms that are saved:\n",
    "\n",
    "- Astrometric acceleration in RA and associated error\n",
    "- Astrometric acceleration in Dec and associated error\n",
    "- Astrometric acceleration combined and associated error"
   ]
  },
  {
   "cell_type": "code",
   "execution_count": 33,
   "metadata": {},
   "outputs": [
    {
     "name": "stdout",
     "output_type": "stream",
     "text": [
      "There are 1386 astrometric acceleration values.\n",
      "There are 1386 astrometric acceleration in RA values.\n",
      "There are 1386 astrometric acceleration in Dec values.\n",
      "There are 1386 astrometric acceleration in RA error values.\n",
      "There are 1386 astrometric acceleration in Dec error values\n",
      "There are 1386 astrometric acceleration error values.\n",
      "\n",
      "The first five values of the astrometric acceleration are [488.6352183836913, 260.9101661578318, 261.5046403021705, 11.174424770070038, 152.71467248124998]\n",
      "The first five values of the RA acceleration are [428.3472219092604, 145.31341611823484, -38.17959281450005, -6.454341895375549, 40.88480386756969]\n",
      "The first five values of the Dec acceleration are [235.12344444460777, 216.69823695765527, -258.70252335856054, 9.121909867980213, 147.14008292700464]\n",
      "The first five values of the RA acceleration error are [14.620498691285498, 8.103928774860465, 20.479749460876175, 3.947689819292848, 13.880673088518893]\n",
      "The first five values of the Dec acceleration error are [7.846193084457181, 4.713640052390691, 12.597188052971076, 1.665869199303515, 6.9918688248155005]\n",
      "The first five values of the acceleration error are [14.06688961509615, 6.4042693609852845, 13.161356877074928, 2.1432509772684547, 8.451809622853993]\n"
     ]
    }
   ],
   "source": [
    "astrometric_accel = []\n",
    "ra_acceleration = []\n",
    "dec_acceleration = []\n",
    "ra_acceleration_error = []\n",
    "dec_acceleration_error = []\n",
    "full_acceleration_error = []\n",
    "\n",
    "for i in range(len(astrometric_accel_quantity)):\n",
    "    str_i = str(astrometric_accel_quantity[i])\n",
    "    str_i_cut = str_i[0:-11]\n",
    "    astrometric_accel.append(float(str_i_cut))\n",
    "    \n",
    "    str_j = str(acc_ral[i])\n",
    "    str_j_cut = str_j[0:-11]\n",
    "    ra_acceleration.append(float(str_j_cut))\n",
    "    \n",
    "    str_k = str(acc_decl[i])\n",
    "    str_k_cut = str_k[0:-11]\n",
    "    dec_acceleration.append(float(str_k_cut))\n",
    "    \n",
    "    str_l = str(ra_error[i])\n",
    "    str_l_cut = str_l[0:-11]\n",
    "    ra_acceleration_error.append(float(str_l_cut))\n",
    "    \n",
    "    str_m = str(dec_error[i])\n",
    "    str_m_cut = str_m[0:-11]\n",
    "    dec_acceleration_error.append(float(str_m_cut))\n",
    "    \n",
    "    str_n = str(accel_error[i])\n",
    "    str_n_cut = str_n[0:-11]\n",
    "    full_acceleration_error.append(float(str_n_cut))\n",
    "    \n",
    "    \n",
    "print('There are ' + str(len(astrometric_accel)) + ' astrometric acceleration values.')\n",
    "print('There are ' + str(len(ra_acceleration)) + ' astrometric acceleration in RA values.')\n",
    "print('There are ' + str(len(dec_acceleration)) + ' astrometric acceleration in Dec values.')\n",
    "print('There are ' + str(len(ra_acceleration_error)) + ' astrometric acceleration in RA error values.')\n",
    "print('There are ' + str(len(dec_acceleration_error)) + ' astrometric acceleration in Dec error values')\n",
    "print('There are ' + str(len(full_acceleration_error)) + ' astrometric acceleration error values.\\n')\n",
    "\n",
    "print('The first five values of the astrometric acceleration are ' + str(astrometric_accel[0:5]))\n",
    "print('The first five values of the RA acceleration are ' + str(ra_acceleration[0:5]))\n",
    "print('The first five values of the Dec acceleration are ' + str(dec_acceleration[0:5]))\n",
    "print('The first five values of the RA acceleration error are ' + str(ra_acceleration_error[0:5]))\n",
    "print('The first five values of the Dec acceleration error are ' + str(dec_acceleration_error[0:5]))\n",
    "print('The first five values of the acceleration error are ' + str(full_acceleration_error[0:5]))"
   ]
  },
  {
   "cell_type": "markdown",
   "metadata": {},
   "source": [
    "These are first saved into a CSV file that can be manipulated further in the work for this survey. They are then also saved into a machine readable table that can be distributed with the publication.  "
   ]
  },
  {
   "cell_type": "code",
   "execution_count": 34,
   "metadata": {},
   "outputs": [],
   "source": [
    "# Create a csv file with the acceleration column\n",
    "header = ['hip_id', 'acceleration', 'accel_err', 'accel_ra', 'accel_dec', 'ra_err', 'dec_err']\n",
    "row = zip(hip_id, astrometric_accel, full_acceleration_error, ra_acceleration, dec_acceleration, ra_acceleration_error, dec_acceleration_error)\n",
    "accel_file = pd.DataFrame(row, columns=header)\n",
    "accel_file.to_csv('/Users/Jess/HGCA_survey_paper/accelerations.csv', index=False)"
   ]
  },
  {
   "cell_type": "markdown",
   "metadata": {},
   "source": [
    "The following provides the output for the electronic table. A header should be attached, found in the txt file acceleration_table_header. "
   ]
  },
  {
   "cell_type": "code",
   "execution_count": 35,
   "metadata": {},
   "outputs": [],
   "source": [
    "header = ['hip_id', 'accel_ra', 'ra_err', 'accel_dec', 'dec_err', 'acceleration', 'accel_err']\n",
    "row = zip(hip_id, ra_acceleration, ra_acceleration_error, dec_acceleration, dec_acceleration_error, astrometric_accel, full_acceleration_error)\n",
    "accel_file = pd.DataFrame(row, columns=header)\n",
    "accel_file.to_csv('/Users/Jess/HGCA_survey_paper/accelerations_electronic_table.csv', index=False)"
   ]
  },
  {
   "cell_type": "code",
   "execution_count": null,
   "metadata": {},
   "outputs": [],
   "source": []
  }
 ],
 "metadata": {
  "kernelspec": {
   "display_name": "Python 3",
   "language": "python",
   "name": "python3"
  },
  "language_info": {
   "codemirror_mode": {
    "name": "ipython",
    "version": 3
   },
   "file_extension": ".py",
   "mimetype": "text/x-python",
   "name": "python",
   "nbconvert_exporter": "python",
   "pygments_lexer": "ipython3",
   "version": "3.7.7"
  }
 },
 "nbformat": 4,
 "nbformat_minor": 4
}
