{
 "cells": [
  {
   "cell_type": "markdown",
   "metadata": {},
   "source": [
    "# Matching Stars with WDS and KOA Data"
   ]
  },
  {
   "cell_type": "markdown",
   "metadata": {},
   "source": [
    "This code will compiled stars from the final spreadsheet that contain both WDS and KOA companions. "
   ]
  },
  {
   "cell_type": "code",
   "execution_count": 75,
   "metadata": {},
   "outputs": [],
   "source": [
    "# Necessary Modules\n",
    "import numpy as np \n",
    "import pandas as pd"
   ]
  },
  {
   "cell_type": "code",
   "execution_count": 76,
   "metadata": {},
   "outputs": [],
   "source": [
    "# Open spreadsheet to pull wds and koa companion data\n",
    "compiled_spreadsheet = pd.read_csv('/Users/Jess/HGCA_survey_paper/final_spreadsheet.csv')\n",
    "wds_comps = compiled_spreadsheet['wds_comps']\n",
    "koa_comps = compiled_spreadsheet['koa']"
   ]
  },
  {
   "cell_type": "code",
   "execution_count": 43,
   "metadata": {},
   "outputs": [],
   "source": [
    "# Create a boolean list for WDS as it contains the number of stars in the system\n",
    "wds_bool = []\n",
    "for i in wds_comps:\n",
    "    if i == 0:\n",
    "        wds_bool.append(0)\n",
    "    else:\n",
    "        wds_bool.append(1)"
   ]
  },
  {
   "cell_type": "code",
   "execution_count": 77,
   "metadata": {},
   "outputs": [],
   "source": [
    "# Find the stars that have both KOA and WDS companions\n",
    "matches = []\n",
    "for i in range(len(wds_bool)):\n",
    "    if wds_bool[i] == 1 and koa_comps[i] == 1:\n",
    "        matches.append(1)\n",
    "    else:\n",
    "        matches.append(0)"
   ]
  },
  {
   "cell_type": "code",
   "execution_count": 79,
   "metadata": {},
   "outputs": [
    {
     "name": "stdout",
     "output_type": "stream",
     "text": [
      "There are 15 systems with companions in both WDS and KOA.\n"
     ]
    }
   ],
   "source": [
    "# Find the appropriate HIP IDs for these stars\n",
    "hip_id = []\n",
    "for i in range(len(wds_bool)):\n",
    "    if matches[i] == 1:\n",
    "        hip_id.append(compiled_spreadsheet['hip_id'][i])\n",
    "    else:\n",
    "        continue\n",
    "\n",
    "print('There are ' + str(len(hip_id)) + ' systems with companions in both WDS and KOA.')"
   ]
  },
  {
   "cell_type": "code",
   "execution_count": 81,
   "metadata": {},
   "outputs": [],
   "source": [
    "# Determine the indexes of these HIP IDs in the final spreadsheet\n",
    "compiled_index = []\n",
    "\n",
    "for i in hip_id:\n",
    "    a = compiled_spreadsheet.loc[compiled_spreadsheet['hip_id'] == i].index[0]\n",
    "    compiled_index.append(a)"
   ]
  },
  {
   "cell_type": "code",
   "execution_count": 82,
   "metadata": {},
   "outputs": [],
   "source": [
    "# Pull these rows and save to a seperate spreadsheet\n",
    "cut_spreadsheet = compiled_spreadsheet.iloc[compiled_index]\n",
    "cut_spreadsheet.to_csv('/Users/Jess/HGCA_survey_paper/koa_wds_comps.csv', index=False)"
   ]
  }
 ],
 "metadata": {
  "kernelspec": {
   "display_name": "Python 3",
   "language": "python",
   "name": "python3"
  },
  "language_info": {
   "codemirror_mode": {
    "name": "ipython",
    "version": 3
   },
   "file_extension": ".py",
   "mimetype": "text/x-python",
   "name": "python",
   "nbconvert_exporter": "python",
   "pygments_lexer": "ipython3",
   "version": "3.7.4"
  }
 },
 "nbformat": 4,
 "nbformat_minor": 4
}
