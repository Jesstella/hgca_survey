{
 "cells": [
  {
   "cell_type": "markdown",
   "metadata": {},
   "source": [
    "# Absolute Magnitude G "
   ]
  },
  {
   "cell_type": "markdown",
   "metadata": {},
   "source": [
    "This code will allow the user to determine the absolute G magnitude from the parallax and apparent g magnitude; with the corresponding errors. "
   ]
  },
  {
   "cell_type": "code",
   "execution_count": 8,
   "metadata": {},
   "outputs": [],
   "source": [
    "# Necessary Modules \n",
    "import pandas as pd \n",
    "import numpy as np \n",
    "import matplotlib.pyplot as plt"
   ]
  },
  {
   "cell_type": "code",
   "execution_count": 9,
   "metadata": {},
   "outputs": [],
   "source": [
    "# Open file to get data \n",
    "bigt = pd.read_csv('/Users/Jess/HGCA_survey_paper/final_spreadsheet.csv')\n",
    "g_mag = bigt['phot_g_mean_mag']\n",
    "para = bigt['gaia_parallax']\n",
    "para_error = bigt['gaia_parallax_err']\n",
    "flux = bigt['phot_g_mean_flux']\n",
    "flux_err = bigt['phot_g_mean_flux_error']"
   ]
  },
  {
   "cell_type": "code",
   "execution_count": 10,
   "metadata": {},
   "outputs": [],
   "source": [
    "# Calculate absolute magnitude using the distance modulus \n",
    "distance = 1 / (para * 10**-3)\n",
    "G_mag = 5 + g_mag - (5 * np.log10(distance))"
   ]
  },
  {
   "cell_type": "code",
   "execution_count": 11,
   "metadata": {},
   "outputs": [],
   "source": [
    "# Calculate the error on absolute magnitude \n",
    "distance_error = para_error / (para**2)\n",
    "g_mag_error = flux_err/flux\n",
    "\n",
    "partial_m = g_mag_error \n",
    "partial_d = -5/distance\n",
    "\n",
    "G_mag_error = np.sqrt(partial_m**2 * ((partial_d**2)*(distance_error**2)))"
   ]
  },
  {
   "cell_type": "code",
   "execution_count": 12,
   "metadata": {},
   "outputs": [],
   "source": [
    "rows = zip(G_mag, G_mag_error)\n",
    "header = ['G_mag', 'G_mag_error']\n",
    "mags = pd.DataFrame(rows, columns=header)\n",
    "mags.to_csv('/Users/Jess/HGCA_survey_paper/absolute_g_mags.csv')"
   ]
  }
 ],
 "metadata": {
  "kernelspec": {
   "display_name": "Python 3",
   "language": "python",
   "name": "python3"
  },
  "language_info": {
   "codemirror_mode": {
    "name": "ipython",
    "version": 3
   },
   "file_extension": ".py",
   "mimetype": "text/x-python",
   "name": "python",
   "nbconvert_exporter": "python",
   "pygments_lexer": "ipython3",
   "version": "3.7.4"
  }
 },
 "nbformat": 4,
 "nbformat_minor": 4
}
